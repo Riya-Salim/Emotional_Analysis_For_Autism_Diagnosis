{
 "cells": [
  {
   "cell_type": "code",
   "execution_count": 1,
   "metadata": {},
   "outputs": [],
   "source": [
    "anger=0\n",
    "disgust=1\n",
    "fear=2\n",
    "happy=3\n",
    "sad=4\n",
    "surprise=5\n",
    "neutral=6"
   ]
  },
  {
   "cell_type": "code",
   "execution_count": 2,
   "metadata": {},
   "outputs": [
    {
     "name": "stderr",
     "output_type": "stream",
     "text": [
      "Using TensorFlow backend.\n"
     ]
    }
   ],
   "source": [
    "import itertools\n",
    "import os\n",
    "import pandas as pd\n",
    "import numpy as np\n",
    "from matplotlib import pyplot as plt\n",
    "from sklearn.model_selection import train_test_split\n",
    "\n",
    "from keras import models\n",
    "from keras import layers\n",
    "from keras import optimizers\n",
    "from keras import Sequential\n",
    "from keras import regularizers\n",
    "from sklearn.metrics import f1_score, precision_score, recall_score\n",
    "from sklearn.metrics import classification_report, confusion_matrix\n",
    "from keras.applications import VGG16, VGG19\n",
    "from keras.layers import Flatten, Dropout, Reshape\n",
    "from keras.callbacks import EarlyStopping\n",
    "from keras.layers.convolutional import Conv2D, MaxPooling2D\n",
    "from keras.models import model_from_json"
   ]
  },
  {
   "cell_type": "code",
   "execution_count": 3,
   "metadata": {},
   "outputs": [],
   "source": [
    "test_df = pd.read_csv('Data/test.csv')\n",
    "train_df = pd.read_csv('Data/train.csv')\n",
    "df = pd.read_csv('Data/fer2013.csv')"
   ]
  },
  {
   "cell_type": "code",
   "execution_count": 5,
   "metadata": {},
   "outputs": [
    {
     "name": "stdout",
     "output_type": "stream",
     "text": [
      "<class 'pandas.core.frame.DataFrame'>\n",
      "RangeIndex: 28709 entries, 0 to 28708\n",
      "Data columns (total 2 columns):\n",
      " #   Column   Non-Null Count  Dtype \n",
      "---  ------   --------------  ----- \n",
      " 0   emotion  28709 non-null  int64 \n",
      " 1   pixels   28709 non-null  object\n",
      "dtypes: int64(1), object(1)\n",
      "memory usage: 448.7+ KB\n"
     ]
    }
   ],
   "source": [
    "train_df.info()"
   ]
  },
  {
   "cell_type": "code",
   "execution_count": 6,
   "metadata": {},
   "outputs": [
    {
     "name": "stdout",
     "output_type": "stream",
     "text": [
      "   emotion                                             pixels\n",
      "0        0  70 80 82 72 58 58 60 63 54 58 60 48 89 115 121...\n",
      "1        0  151 150 147 155 148 133 111 140 170 174 182 15...\n",
      "2        2  231 212 156 164 174 138 161 173 182 200 106 38...\n",
      "3        4  24 32 36 30 32 23 19 20 30 41 21 22 32 34 21 1...\n",
      "4        6  4 0 0 0 0 0 0 0 0 0 0 0 3 15 23 28 48 50 58 84...\n",
      "                                              pixels\n",
      "0  254 254 254 254 254 249 255 160 2 58 53 70 77 ...\n",
      "1  156 184 198 202 204 207 210 212 213 214 215 21...\n",
      "2  69 118 61 60 96 121 103 87 103 88 70 90 115 12...\n",
      "3  205 203 236 157 83 158 120 116 94 86 155 180 2...\n",
      "4  87 79 74 66 74 96 77 80 80 84 83 89 102 91 84 ...\n"
     ]
    }
   ],
   "source": [
    "print(train_df.head())\n",
    "print(test_df.head())"
   ]
  },
  {
   "cell_type": "code",
   "execution_count": 7,
   "metadata": {},
   "outputs": [
    {
     "data": {
      "image/png": "[encoded data removed]",
      "text/plain": [
       "<Figure size 432x288 with 1 Axes>"
      ]
     },
     "metadata": {
      "needs_background": "light"
     },
     "output_type": "display_data"
    }
   ],
   "source": [
    "# View an image\n",
    "i = 2000\n",
    "list_pixels = np.array([int(string) for string in train_df.iloc[i,1].split(' ')])\n",
    "pixeled_image = list_pixels.reshape(48,48)\n",
    "plt.imshow(pixeled_image, cmap='gray');"
   ]
  },
  {
   "cell_type": "markdown",
   "metadata": {},
   "source": [
    "## Base model (Dense)"
   ]
  },
  {
   "cell_type": "code",
   "execution_count": 8,
   "metadata": {},
   "outputs": [],
   "source": [
    "# Split train data into x,y values for train and validation\n",
    "x_train = []\n",
    "for i in range(len(train_df)):\n",
    "  list_pixels = [int(string) for string in train_df.iloc[i,1].split(' ')]\n",
    "  x_train.append(list_pixels)\n",
    "x = np.array(x_train)\n",
    "y = train_df.iloc[:,0]"
   ]
  },
  {
   "cell_type": "code",
   "execution_count": 9,
   "metadata": {},
   "outputs": [
    {
     "name": "stdout",
     "output_type": "stream",
     "text": [
      "[[ 70  80  82 ... 106 109  82]\n",
      " [151 150 147 ... 193 183 184]\n",
      " [231 212 156 ...  88 110 152]\n",
      " ...\n",
      " [ 74  81  87 ... 188 187 187]\n",
      " [222 227 203 ... 136 136 134]\n",
      " [195 199 205 ...   6  15  38]]\n",
      "0        0\n",
      "1        0\n",
      "2        2\n",
      "3        4\n",
      "4        6\n",
      "        ..\n",
      "28704    2\n",
      "28705    0\n",
      "28706    4\n",
      "28707    0\n",
      "28708    4\n",
      "Name: emotion, Length: 28709, dtype: int64\n"
     ]
    }
   ],
   "source": [
    "print(x)\n",
    "print(y)\n"
   ]
  },
  {
   "cell_type": "code",
   "execution_count": 10,
   "metadata": {},
   "outputs": [],
   "source": [
    "# Categorize y to for compatiblity with softmax activation\n",
    "from keras.utils import to_categorical\n",
    "y_cat = to_categorical(np.array(y))"
   ]
  },
  {
   "cell_type": "code",
   "execution_count": 11,
   "metadata": {},
   "outputs": [
    {
     "name": "stdout",
     "output_type": "stream",
     "text": [
      "[[1. 0. 0. ... 0. 0. 0.]\n",
      " [1. 0. 0. ... 0. 0. 0.]\n",
      " [0. 0. 1. ... 0. 0. 0.]\n",
      " ...\n",
      " [0. 0. 0. ... 1. 0. 0.]\n",
      " [1. 0. 0. ... 0. 0. 0.]\n",
      " [0. 0. 0. ... 1. 0. 0.]]\n"
     ]
    }
   ],
   "source": [
    "print(y_cat)"
   ]
  },
  {
   "cell_type": "code",
   "execution_count": 12,
   "metadata": {},
   "outputs": [],
   "source": [
    "# Train_test_split training data into training and testing sets\n",
    "x_train1, x_test, y_train1, y_test =  train_test_split(x, y_cat, random_state = 123, test_size = 0.10)"
   ]
  },
  {
   "cell_type": "code",
   "execution_count": 13,
   "metadata": {},
   "outputs": [
    {
     "name": "stdout",
     "output_type": "stream",
     "text": [
      "x_test =  (2871, 2304)\n",
      "y_test =  (2871, 7)\n",
      "training data  before splitting into train + validation :\n",
      "x_train1 =  (25838, 2304)\n",
      "y_train1 =  (25838, 7)\n"
     ]
    }
   ],
   "source": [
    "print('x_test = ',x_test.shape)\n",
    "print('y_test = ',y_test.shape)\n",
    "print('training data  before splitting into train + validation :')\n",
    "print('x_train1 = ',x_train1.shape)\n",
    "print('y_train1 = ',y_train1.shape)"
   ]
  },
  {
   "cell_type": "code",
   "execution_count": 14,
   "metadata": {},
   "outputs": [],
   "source": [
    "# Train_test_split training data into training and validation sets\n",
    "x_train, x_val, y_train, y_val = train_test_split(x_train1, y_train1, random_state = 123, test_size = 0.20)"
   ]
  },
  {
   "cell_type": "code",
   "execution_count": 15,
   "metadata": {},
   "outputs": [
    {
     "name": "stdout",
     "output_type": "stream",
     "text": [
      "x_train =  (20670, 2304)\n",
      "y_train =  (20670, 7)\n",
      "x_val =  (5168, 2304)\n",
      "y_val =  (5168, 7)\n"
     ]
    }
   ],
   "source": [
    "print('x_train = ',x_train.shape)\n",
    "print('y_train = ', y_train.shape)\n",
    "print('x_val = ',x_val.shape)\n",
    "print('y_val = ', y_val.shape)"
   ]
  },
  {
   "cell_type": "markdown",
   "metadata": {},
   "source": [
    "### Building the model "
   ]
  },
  {
   "cell_type": "markdown",
   "metadata": {},
   "source": [
    "##### model : dense ,epoch : 50 "
   ]
  },
  {
   "cell_type": "code",
   "execution_count": 16,
   "metadata": {},
   "outputs": [],
   "source": [
    "# Set seed to get same results\n",
    "np.random.seed(123)\n",
    "# Define model as Sequential class\n",
    "model = models.Sequential()"
   ]
  },
  {
   "cell_type": "code",
   "execution_count": 17,
   "metadata": {},
   "outputs": [],
   "source": [
    "# Add layers to model. 3 relus and one softmax\n",
    "model.add(layers.Dense(256, activation='relu', input_shape=(2304,)))\n",
    "model.add(layers.Dense(128, activation='relu'))\n",
    "model.add(layers.Dense(64, activation='relu'))\n",
    "model.add(layers.Dense(7, activation='softmax')) # need # of nodes to match # of classes"
   ]
  },
  {
   "cell_type": "code",
   "execution_count": 18,
   "metadata": {},
   "outputs": [],
   "source": [
    "# look at categorical loss and use accuracy as metric with stochastic gradient descent as optimizer\n",
    "model.compile(optimizer='sgd',\n",
    "              loss='categorical_crossentropy',\n",
    "              metrics=['accuracy'])"
   ]
  },
  {
   "cell_type": "code",
   "execution_count": 19,
   "metadata": {},
   "outputs": [
    {
     "name": "stdout",
     "output_type": "stream",
     "text": [
      "Train on 20670 samples, validate on 5168 samples\n",
      "Epoch 1/15\n",
      "20670/20670 [==============================] - 14s 670us/step - loss: nan - accuracy: 0.1389 - val_loss: nan - val_accuracy: 0.1395\n",
      "Epoch 2/15\n",
      "20670/20670 [==============================] - 11s 539us/step - loss: nan - accuracy: 0.1387 - val_loss: nan - val_accuracy: 0.1395\n",
      "Epoch 3/15\n",
      "20670/20670 [==============================] - 10s 464us/step - loss: nan - accuracy: 0.1387 - val_loss: nan - val_accuracy: 0.1395 accuracy: \n",
      "Epoch 4/15\n",
      "20670/20670 [==============================] - 9s 451us/step - loss: nan - accuracy: 0.1387 - val_loss: nan - val_accuracy: 0.1395\n",
      "Epoch 5/15\n",
      "20670/20670 [==============================] - 9s 449us/step - loss: nan - accuracy: 0.1387 - val_loss: nan - val_accuracy: 0.1395\n",
      "Epoch 6/15\n",
      "20670/20670 [==============================] - 9s 450us/step - loss: nan - accuracy: 0.1387 - val_loss: nan - val_accuracy: 0.1395\n",
      "Epoch 7/15\n",
      "20670/20670 [==============================] - 9s 452us/step - loss: nan - accuracy: 0.1387 - val_loss: nan - val_accuracy: 0.1395\n",
      "Epoch 8/15\n",
      "20670/20670 [==============================] - 10s 463us/step - loss: nan - accuracy: 0.1387 - val_loss: nan - val_accuracy: 0.1395\n",
      "Epoch 9/15\n",
      "20670/20670 [==============================] - 9s 451us/step - loss: nan - accuracy: 0.1387 - val_loss: nan - val_accuracy: 0.1395\n",
      "Epoch 10/15\n",
      "20670/20670 [==============================] - 10s 499us/step - loss: nan - accuracy: 0.1387 - val_loss: nan - val_accuracy: 0.1395\n",
      "Epoch 11/15\n",
      "20670/20670 [==============================] - 10s 465us/step - loss: nan - accuracy: 0.1387 - val_loss: nan - val_accuracy: 0.1395\n",
      "Epoch 12/15\n",
      "20670/20670 [==============================] - 10s 475us/step - loss: nan - accuracy: 0.1387 - val_loss: nan - val_accuracy: 0.1395\n",
      "Epoch 13/15\n",
      "20670/20670 [==============================] - 11s 551us/step - loss: nan - accuracy: 0.1387 - val_loss: nan - val_accuracy: 0.1395\n",
      "Epoch 14/15\n",
      "20670/20670 [==============================] - 9s 455us/step - loss: nan - accuracy: 0.1387 - val_loss: nan - val_accuracy: 0.1395\n",
      "Epoch 15/15\n",
      "20670/20670 [==============================] - 9s 447us/step - loss: nan - accuracy: 0.1387 - val_loss: nan - val_accuracy: 0.1395\n"
     ]
    }
   ],
   "source": [
    "# Like cross-validation\n",
    "# Fit data to training set; use the validation set as a testing set for the batches \n",
    "history = model.fit(x_train,\n",
    "                    y_train,\n",
    "                    epochs=15,\n",
    "                    batch_size=100,\n",
    "                    validation_data=(x_val, y_val))"
   ]
  },
  {
   "cell_type": "markdown",
   "metadata": {},
   "source": [
    "###### didn't need to go further  since accuracy is too low !!"
   ]
  },
  {
   "cell_type": "markdown",
   "metadata": {},
   "source": [
    "## CNN trial 1"
   ]
  },
  {
   "cell_type": "code",
   "execution_count": 4,
   "metadata": {},
   "outputs": [],
   "source": [
    "# Reshape 1D array to 2D matrix for Conv2D\n",
    "\n",
    "x_train = []\n",
    "for i in range(len(train_df)):\n",
    "  # convert string of pixels to list of integers\n",
    "  list_pixels = [int(string) for string in train_df.iloc[i,1].split(' ')]\n",
    "  # reshape 1D to 2D matrix\n",
    "  pixeled_image = np.array(list_pixels).reshape(48,48)\n",
    "  x_train.append(pixeled_image)\n",
    "\n",
    "x = np.array(x_train)\n",
    "y = train_df.iloc[:,0]"
   ]
  },
  {
   "cell_type": "code",
   "execution_count": 21,
   "metadata": {},
   "outputs": [
    {
     "name": "stdout",
     "output_type": "stream",
     "text": [
      "[[[ 70  80  82 ...  52  43  41]\n",
      "  [ 65  61  58 ...  56  52  44]\n",
      "  [ 50  43  54 ...  49  56  47]\n",
      "  ...\n",
      "  [ 91  65  42 ...  72  56  43]\n",
      "  [ 77  82  79 ... 105  70  46]\n",
      "  [ 77  72  84 ... 106 109  82]]\n",
      "\n",
      " [[151 150 147 ... 129 140 120]\n",
      "  [151 149 149 ... 122 141 137]\n",
      "  [151 151 156 ... 109 123 146]\n",
      "  ...\n",
      "  [188 188 121 ... 185 185 186]\n",
      "  [188 187 196 ... 186 182 187]\n",
      "  [186 184 185 ... 193 183 184]]\n",
      "\n",
      " [[231 212 156 ...  44  27  16]\n",
      "  [229 175 148 ...  27  35  27]\n",
      "  [214 156 157 ...  28  22  28]\n",
      "  ...\n",
      "  [241 245 250 ...  57 101 146]\n",
      "  [246 250 252 ...  78 105 162]\n",
      "  [250 251 250 ...  88 110 152]]\n",
      "\n",
      " ...\n",
      "\n",
      " [[ 74  81  87 ... 189 191 192]\n",
      "  [ 78  82  89 ... 185 189 193]\n",
      "  [ 81  86  94 ... 176 185 193]\n",
      "  ...\n",
      "  [ 90  99 113 ... 192 195 197]\n",
      "  [ 88  96 114 ... 192 194 192]\n",
      "  [ 88  97 110 ... 188 187 187]]\n",
      "\n",
      " [[222 227 203 ... 138 132 122]\n",
      "  [222 226 203 ... 142 136 127]\n",
      "  [222 225 206 ... 147 143 129]\n",
      "  ...\n",
      "  [179 180 177 ... 141 139 137]\n",
      "  [188 182 176 ... 138 136 135]\n",
      "  [181 168 155 ... 136 136 134]]\n",
      "\n",
      " [[195 199 205 ... 182 140  77]\n",
      "  [193 196 202 ... 197 165 105]\n",
      "  [198 200 204 ... 208 196 157]\n",
      "  ...\n",
      "  [ 57  73  84 ...   3  20  33]\n",
      "  [ 61  73  96 ...   6  19  41]\n",
      "  [ 61  79  95 ...   6  15  38]]]\n",
      "0        0\n",
      "1        0\n",
      "2        2\n",
      "3        4\n",
      "4        6\n",
      "        ..\n",
      "28704    2\n",
      "28705    0\n",
      "28706    4\n",
      "28707    0\n",
      "28708    4\n",
      "Name: emotion, Length: 28709, dtype: int64\n"
     ]
    }
   ],
   "source": [
    "print(x)\n",
    "print(y)\n"
   ]
  },
  {
   "cell_type": "code",
   "execution_count": 5,
   "metadata": {},
   "outputs": [],
   "source": [
    "# Categorize y for compatiblity with softmax activation\n",
    "from keras.utils import to_categorical\n",
    "y = to_categorical(np.array(y))"
   ]
  },
  {
   "cell_type": "code",
   "execution_count": 6,
   "metadata": {},
   "outputs": [
    {
     "name": "stdout",
     "output_type": "stream",
     "text": [
      "[[1. 0. 0. ... 0. 0. 0.]\n",
      " [1. 0. 0. ... 0. 0. 0.]\n",
      " [0. 0. 1. ... 0. 0. 0.]\n",
      " ...\n",
      " [0. 0. 0. ... 1. 0. 0.]\n",
      " [1. 0. 0. ... 0. 0. 0.]\n",
      " [0. 0. 0. ... 1. 0. 0.]]\n"
     ]
    }
   ],
   "source": [
    "print(y)"
   ]
  },
  {
   "cell_type": "code",
   "execution_count": 7,
   "metadata": {},
   "outputs": [
    {
     "name": "stdout",
     "output_type": "stream",
     "text": [
      "x - shape =  (28709, 48, 48)\n",
      "y shape =  (28709, 7)\n"
     ]
    }
   ],
   "source": [
    "\n",
    "print('x - shape = ',x.shape) \n",
    "print('y shape = ' ,y.shape)"
   ]
  },
  {
   "cell_type": "code",
   "execution_count": 8,
   "metadata": {},
   "outputs": [],
   "source": [
    "\n",
    "# Train_test_split training data into training and test sets\n",
    "x_train1, x_test, y_train1, y_test =  train_test_split(x, y, random_state = 123, test_size = 0.10)"
   ]
  },
  {
   "cell_type": "code",
   "execution_count": 9,
   "metadata": {},
   "outputs": [
    {
     "name": "stdout",
     "output_type": "stream",
     "text": [
      "x_test =  (2871, 48, 48)\n",
      "y_test =  (2871, 7)\n",
      "training data  before splitting into train + validation :\n",
      "x_train1 =  (25838, 48, 48)\n",
      "y_train1 =  (25838, 7)\n"
     ]
    }
   ],
   "source": [
    "print('x_test = ',x_test.shape)\n",
    "print('y_test = ',y_test.shape)\n",
    "print('training data  before splitting into train + validation :')\n",
    "print('x_train1 = ',x_train1.shape)\n",
    "print('y_train1 = ',y_train1.shape)"
   ]
  },
  {
   "cell_type": "code",
   "execution_count": 10,
   "metadata": {},
   "outputs": [],
   "source": [
    "# Train_test_split training data into training and validation sets\n",
    "x_train, x_val, y_train, y_val = train_test_split(x_train1, y_train1, random_state = 123, test_size = 0.20)"
   ]
  },
  {
   "cell_type": "code",
   "execution_count": 11,
   "metadata": {},
   "outputs": [
    {
     "name": "stdout",
     "output_type": "stream",
     "text": [
      "x_train =  (20670, 48, 48)\n",
      "y_train =  (20670, 7)\n",
      "x_val =  (5168, 48, 48)\n",
      "y_val =  (5168, 7)\n"
     ]
    }
   ],
   "source": [
    "print('x_train = ',x_train.shape)\n",
    "print('y_train = ', y_train.shape)\n",
    "print('x_val = ',x_val.shape)\n",
    "print('y_val = ', y_val.shape)"
   ]
  },
  {
   "cell_type": "code",
   "execution_count": 12,
   "metadata": {},
   "outputs": [],
   "source": [
    "# Reshape the data  for x_train and x_val\n",
    "# respectively. need to do this because input_shape in model_cnn.add needs a 2D image with \n",
    "# depth specified as 1\n",
    "x_train_reshaped = np.expand_dims(x_train, axis = 3)\n",
    "x_val_reshaped = np.expand_dims(x_val, axis = 3)\n",
    "x_test_reshaped = np.expand_dims(x_test, axis = 3)"
   ]
  },
  {
   "cell_type": "code",
   "execution_count": 13,
   "metadata": {},
   "outputs": [
    {
     "name": "stdout",
     "output_type": "stream",
     "text": [
      "(20670, 48, 48, 1)\n",
      "(5168, 48, 48, 1)\n",
      "(2871, 48, 48, 1)\n"
     ]
    }
   ],
   "source": [
    "print(x_train_reshaped.shape) \n",
    "print(x_val_reshaped.shape) \n",
    "print(x_test_reshaped.shape) "
   ]
  },
  {
   "cell_type": "markdown",
   "metadata": {},
   "source": [
    "### model"
   ]
  },
  {
   "cell_type": "code",
   "execution_count": 14,
   "metadata": {},
   "outputs": [],
   "source": [
    "# Set seed to get same results\n",
    "np.random.seed(123)\n",
    "# Define model as Sequential class\n",
    "model_cnn = models.Sequential()"
   ]
  },
  {
   "cell_type": "markdown",
   "metadata": {},
   "source": [
    "#### tanh , softmax, cnn, batch size 100, epoch 100, no early callback, 4 layers, non standarized"
   ]
  },
  {
   "cell_type": "code",
   "execution_count": 15,
   "metadata": {},
   "outputs": [],
   "source": [
    "model_cnn.add(Conv2D(32, kernel_size=(5, 5), strides=(2, 2),\n",
    "                 activation='tanh',\n",
    "                   input_shape=(48,48,1))) # kernel size = filter window size. 32 = number of output channels\n",
    "model_cnn.add(MaxPooling2D(pool_size=(2, 2), strides=(2, 2)))\n",
    "model_cnn.add(Conv2D(64, (5, 5), activation='tanh'))\n",
    "model_cnn.add(MaxPooling2D(pool_size=(2, 2)))\n",
    "model_cnn.add(layers.Flatten())\n",
    "model_cnn.add(layers.Dense(64, activation='tanh'))\n",
    "model_cnn.add(layers.Dense(7, activation='softmax')) # 7 classifications"
   ]
  },
  {
   "cell_type": "code",
   "execution_count": 16,
   "metadata": {},
   "outputs": [
    {
     "name": "stdout",
     "output_type": "stream",
     "text": [
      "Model: \"sequential_1\"\n",
      "_________________________________________________________________\n",
      "Layer (type)                 Output Shape              Param #   \n",
      "=================================================================\n",
      "conv2d_1 (Conv2D)            (None, 22, 22, 32)        832       \n",
      "_________________________________________________________________\n",
      "max_pooling2d_1 (MaxPooling2 (None, 11, 11, 32)        0         \n",
      "_________________________________________________________________\n",
      "conv2d_2 (Conv2D)            (None, 7, 7, 64)          51264     \n",
      "_________________________________________________________________\n",
      "max_pooling2d_2 (MaxPooling2 (None, 3, 3, 64)          0         \n",
      "_________________________________________________________________\n",
      "flatten_1 (Flatten)          (None, 576)               0         \n",
      "_________________________________________________________________\n",
      "dense_1 (Dense)              (None, 64)                36928     \n",
      "_________________________________________________________________\n",
      "dense_2 (Dense)              (None, 7)                 455       \n",
      "=================================================================\n",
      "Total params: 89,479\n",
      "Trainable params: 89,479\n",
      "Non-trainable params: 0\n",
      "_________________________________________________________________\n"
     ]
    }
   ],
   "source": [
    "model_cnn.summary()"
   ]
  },
  {
   "cell_type": "code",
   "execution_count": 33,
   "metadata": {},
   "outputs": [],
   "source": [
    "model_cnn.compile(loss='categorical_crossentropy',\n",
    "              optimizer=\"sgd\",\n",
    "              metrics=['acc'])"
   ]
  },
  {
   "cell_type": "code",
   "execution_count": 34,
   "metadata": {},
   "outputs": [
    {
     "name": "stdout",
     "output_type": "stream",
     "text": [
      "Train on 20670 samples, validate on 5168 samples\n",
      "Epoch 1/100\n",
      "20670/20670 [==============================] - 19s 905us/step - loss: 1.8229 - acc: 0.2418 - val_loss: 1.8090 - val_acc: 0.2550\n",
      "Epoch 2/100\n",
      "20670/20670 [==============================] - 17s 844us/step - loss: 1.7977 - acc: 0.2527 - val_loss: 1.8041 - val_acc: 0.2566\n",
      "Epoch 3/100\n",
      "20670/20670 [==============================] - 18s 850us/step - loss: 1.7808 - acc: 0.2655 - val_loss: 1.7816 - val_acc: 0.2705\n",
      "Epoch 4/100\n",
      "20670/20670 [==============================] - 18s 855us/step - loss: 1.7521 - acc: 0.2894 - val_loss: 1.7397 - val_acc: 0.3007\n",
      "Epoch 5/100\n",
      "20670/20670 [==============================] - 18s 850us/step - loss: 1.7310 - acc: 0.2983 - val_loss: 1.7433 - val_acc: 0.2841\n",
      "Epoch 6/100\n",
      "20670/20670 [==============================] - 18s 850us/step - loss: 1.7187 - acc: 0.3050 - val_loss: 1.7353 - val_acc: 0.2906\n",
      "Epoch 7/100\n",
      "20670/20670 [==============================] - 18s 849us/step - loss: 1.7132 - acc: 0.3099 - val_loss: 1.7376 - val_acc: 0.2966\n",
      "Epoch 8/100\n",
      "20670/20670 [==============================] - 18s 855us/step - loss: 1.7212 - acc: 0.3090 - val_loss: 1.7219 - val_acc: 0.3036\n",
      "Epoch 9/100\n",
      "20670/20670 [==============================] - 18s 863us/step - loss: 1.7075 - acc: 0.3179 - val_loss: 1.7205 - val_acc: 0.3117\n",
      "Epoch 10/100\n",
      "20670/20670 [==============================] - 18s 853us/step - loss: 1.6942 - acc: 0.3239 - val_loss: 1.7641 - val_acc: 0.2827\n",
      "Epoch 11/100\n",
      "20670/20670 [==============================] - 18s 853us/step - loss: 1.6802 - acc: 0.3329 - val_loss: 1.7045 - val_acc: 0.3222\n",
      "Epoch 12/100\n",
      "20670/20670 [==============================] - 18s 853us/step - loss: 1.6552 - acc: 0.3463 - val_loss: 1.7224 - val_acc: 0.3142\n",
      "Epoch 13/100\n",
      "20670/20670 [==============================] - 19s 902us/step - loss: 1.6533 - acc: 0.3490 - val_loss: 1.6642 - val_acc: 0.3458\n",
      "Epoch 14/100\n",
      "20670/20670 [==============================] - 18s 879us/step - loss: 1.6281 - acc: 0.3611 - val_loss: 1.6554 - val_acc: 0.3462\n",
      "Epoch 15/100\n",
      "20670/20670 [==============================] - 18s 887us/step - loss: 1.6109 - acc: 0.3747 - val_loss: 1.6396 - val_acc: 0.3524\n",
      "Epoch 16/100\n",
      "20670/20670 [==============================] - 18s 878us/step - loss: 1.6100 - acc: 0.3731 - val_loss: 1.6813 - val_acc: 0.3380\n",
      "Epoch 17/100\n",
      "20670/20670 [==============================] - 18s 891us/step - loss: 1.6318 - acc: 0.3596 - val_loss: 1.6395 - val_acc: 0.3527\n",
      "Epoch 18/100\n",
      "20670/20670 [==============================] - 18s 873us/step - loss: 1.6098 - acc: 0.3702 - val_loss: 1.6309 - val_acc: 0.3613\n",
      "Epoch 19/100\n",
      "20670/20670 [==============================] - 18s 875us/step - loss: 1.5835 - acc: 0.3821 - val_loss: 1.6120 - val_acc: 0.3707\n",
      "Epoch 20/100\n",
      "20670/20670 [==============================] - 19s 910us/step - loss: 1.5972 - acc: 0.3779 - val_loss: 1.5948 - val_acc: 0.3812\n",
      "Epoch 21/100\n",
      "20670/20670 [==============================] - 19s 922us/step - loss: 1.5767 - acc: 0.3878 - val_loss: 1.6062 - val_acc: 0.3765\n",
      "Epoch 22/100\n",
      "20670/20670 [==============================] - 20s 953us/step - loss: 1.5850 - acc: 0.3841 - val_loss: 1.6270 - val_acc: 0.3646\n",
      "Epoch 23/100\n",
      "20670/20670 [==============================] - 18s 884us/step - loss: 1.5781 - acc: 0.3846 - val_loss: 1.6073 - val_acc: 0.3698\n",
      "Epoch 24/100\n",
      "20670/20670 [==============================] - 18s 885us/step - loss: 1.5492 - acc: 0.4021 - val_loss: 1.6024 - val_acc: 0.3696\n",
      "Epoch 25/100\n",
      "20670/20670 [==============================] - 18s 880us/step - loss: 1.5546 - acc: 0.3959 - val_loss: 1.6727 - val_acc: 0.3369\n",
      "Epoch 26/100\n",
      "20670/20670 [==============================] - 18s 875us/step - loss: 1.5461 - acc: 0.3992 - val_loss: 1.6082 - val_acc: 0.3771\n",
      "Epoch 27/100\n",
      "20670/20670 [==============================] - 18s 877us/step - loss: 1.5560 - acc: 0.3966 - val_loss: 1.5983 - val_acc: 0.3841\n",
      "Epoch 28/100\n",
      "20670/20670 [==============================] - 18s 875us/step - loss: 1.5387 - acc: 0.4053 - val_loss: 1.5866 - val_acc: 0.3884\n",
      "Epoch 29/100\n",
      "20670/20670 [==============================] - 18s 876us/step - loss: 1.5181 - acc: 0.4116 - val_loss: 1.5923 - val_acc: 0.3845\n",
      "Epoch 30/100\n",
      "20670/20670 [==============================] - 18s 884us/step - loss: 1.5132 - acc: 0.4164 - val_loss: 1.5620 - val_acc: 0.3895\n",
      "Epoch 31/100\n",
      "20670/20670 [==============================] - 18s 883us/step - loss: 1.5030 - acc: 0.4225 - val_loss: 1.5374 - val_acc: 0.4007\n",
      "Epoch 32/100\n",
      "20670/20670 [==============================] - 18s 876us/step - loss: 1.4931 - acc: 0.4234 - val_loss: 1.5441 - val_acc: 0.3918\n",
      "Epoch 33/100\n",
      "20670/20670 [==============================] - 18s 881us/step - loss: 1.4891 - acc: 0.4261 - val_loss: 1.5923 - val_acc: 0.3781\n",
      "Epoch 34/100\n",
      "20670/20670 [==============================] - 19s 900us/step - loss: 1.4787 - acc: 0.4271 - val_loss: 1.5753 - val_acc: 0.3922\n",
      "Epoch 35/100\n",
      "20670/20670 [==============================] - 18s 892us/step - loss: 1.4663 - acc: 0.4351 - val_loss: 1.5388 - val_acc: 0.4021\n",
      "Epoch 36/100\n",
      "20670/20670 [==============================] - 18s 884us/step - loss: 1.4643 - acc: 0.4353 - val_loss: 1.5585 - val_acc: 0.3922\n",
      "Epoch 37/100\n",
      "20670/20670 [==============================] - 18s 887us/step - loss: 1.4694 - acc: 0.4328 - val_loss: 1.5360 - val_acc: 0.4007\n",
      "Epoch 38/100\n",
      "20670/20670 [==============================] - 18s 891us/step - loss: 1.4638 - acc: 0.4353 - val_loss: 1.5327 - val_acc: 0.4065\n",
      "Epoch 39/100\n",
      "20670/20670 [==============================] - 18s 886us/step - loss: 1.4608 - acc: 0.4354 - val_loss: 1.5974 - val_acc: 0.3754\n",
      "Epoch 40/100\n",
      "20670/20670 [==============================] - 18s 883us/step - loss: 1.4630 - acc: 0.4388 - val_loss: 1.5737 - val_acc: 0.3853\n",
      "Epoch 41/100\n",
      "20670/20670 [==============================] - 18s 882us/step - loss: 1.4581 - acc: 0.4370 - val_loss: 1.5351 - val_acc: 0.4094\n",
      "Epoch 42/100\n",
      "20670/20670 [==============================] - 18s 891us/step - loss: 1.4566 - acc: 0.4404 - val_loss: 1.5366 - val_acc: 0.4079\n",
      "Epoch 43/100\n",
      "20670/20670 [==============================] - 18s 891us/step - loss: 1.4235 - acc: 0.4550 - val_loss: 1.5402 - val_acc: 0.4056\n",
      "Epoch 44/100\n",
      "20670/20670 [==============================] - 19s 898us/step - loss: 1.4247 - acc: 0.4567 - val_loss: 1.5899 - val_acc: 0.3754\n",
      "Epoch 45/100\n",
      "20670/20670 [==============================] - 18s 893us/step - loss: 1.4545 - acc: 0.4378 - val_loss: 1.5079 - val_acc: 0.4133\n",
      "Epoch 46/100\n",
      "20670/20670 [==============================] - 18s 887us/step - loss: 1.4210 - acc: 0.4558 - val_loss: 1.5088 - val_acc: 0.4158\n",
      "Epoch 47/100\n",
      "20670/20670 [==============================] - 19s 897us/step - loss: 1.4177 - acc: 0.4563 - val_loss: 1.5120 - val_acc: 0.4143\n",
      "Epoch 48/100\n",
      "20670/20670 [==============================] - 18s 886us/step - loss: 1.4112 - acc: 0.4566 - val_loss: 1.5443 - val_acc: 0.3967\n",
      "Epoch 49/100\n",
      "20670/20670 [==============================] - 18s 884us/step - loss: 1.4515 - acc: 0.4447 - val_loss: 1.5644 - val_acc: 0.3967\n",
      "Epoch 50/100\n",
      "20670/20670 [==============================] - 18s 890us/step - loss: 1.4335 - acc: 0.4440 - val_loss: 1.5306 - val_acc: 0.4050\n",
      "Epoch 51/100\n",
      "20670/20670 [==============================] - 19s 897us/step - loss: 1.4508 - acc: 0.4412 - val_loss: 1.5766 - val_acc: 0.3750\n",
      "Epoch 52/100\n",
      "20670/20670 [==============================] - 18s 894us/step - loss: 1.4977 - acc: 0.4194 - val_loss: 1.5685 - val_acc: 0.3872\n",
      "Epoch 53/100\n",
      "20670/20670 [==============================] - 18s 888us/step - loss: 1.4180 - acc: 0.4560 - val_loss: 1.5293 - val_acc: 0.4102\n",
      "Epoch 54/100\n",
      "20670/20670 [==============================] - 18s 893us/step - loss: 1.4295 - acc: 0.4498 - val_loss: 1.5386 - val_acc: 0.4048\n",
      "Epoch 55/100\n",
      "20670/20670 [==============================] - 19s 912us/step - loss: 1.4479 - acc: 0.4401 - val_loss: 1.5790 - val_acc: 0.3899\n",
      "Epoch 56/100\n",
      "20670/20670 [==============================] - 19s 912us/step - loss: 1.4179 - acc: 0.4552 - val_loss: 1.5343 - val_acc: 0.4096\n",
      "Epoch 57/100\n",
      "20670/20670 [==============================] - 19s 911us/step - loss: 1.4060 - acc: 0.4611 - val_loss: 1.5655 - val_acc: 0.3992\n",
      "Epoch 58/100\n",
      "20670/20670 [==============================] - 19s 928us/step - loss: 1.3985 - acc: 0.4617 - val_loss: 1.5167 - val_acc: 0.4077\n",
      "Epoch 59/100\n",
      "20670/20670 [==============================] - 18s 884us/step - loss: 1.4484 - acc: 0.4400 - val_loss: 1.5683 - val_acc: 0.3839\n",
      "Epoch 60/100\n",
      "20670/20670 [==============================] - 18s 854us/step - loss: 1.3962 - acc: 0.4656 - val_loss: 1.5605 - val_acc: 0.3918\n",
      "Epoch 61/100\n",
      "20670/20670 [==============================] - 18s 855us/step - loss: 1.3993 - acc: 0.4634 - val_loss: 1.5418 - val_acc: 0.3961\n",
      "Epoch 62/100\n",
      "20670/20670 [==============================] - 18s 854us/step - loss: 1.3742 - acc: 0.4731 - val_loss: 1.5430 - val_acc: 0.4029\n",
      "Epoch 63/100\n",
      "20670/20670 [==============================] - 18s 879us/step - loss: 1.3784 - acc: 0.4762 - val_loss: 1.5148 - val_acc: 0.4162\n",
      "Epoch 64/100\n",
      "20670/20670 [==============================] - 18s 882us/step - loss: 1.3631 - acc: 0.4810 - val_loss: 1.5338 - val_acc: 0.4092\n",
      "Epoch 65/100\n",
      "20670/20670 [==============================] - 18s 873us/step - loss: 1.3539 - acc: 0.4823 - val_loss: 1.5047 - val_acc: 0.4180\n",
      "Epoch 66/100\n",
      "20670/20670 [==============================] - 18s 866us/step - loss: 1.3435 - acc: 0.4906 - val_loss: 1.4995 - val_acc: 0.4197\n",
      "Epoch 67/100\n",
      "20670/20670 [==============================] - 18s 871us/step - loss: 1.3270 - acc: 0.4935 - val_loss: 1.4827 - val_acc: 0.4199\n",
      "Epoch 68/100\n",
      "20670/20670 [==============================] - 18s 870us/step - loss: 1.3417 - acc: 0.4886 - val_loss: 1.5099 - val_acc: 0.4127\n",
      "Epoch 69/100\n",
      "20670/20670 [==============================] - 19s 922us/step - loss: 1.3285 - acc: 0.4971 - val_loss: 1.4872 - val_acc: 0.4224\n",
      "Epoch 70/100\n",
      "20670/20670 [==============================] - 19s 915us/step - loss: 1.3118 - acc: 0.5054 - val_loss: 1.4793 - val_acc: 0.4336\n",
      "Epoch 71/100\n",
      "20670/20670 [==============================] - 19s 897us/step - loss: 1.3097 - acc: 0.5030 - val_loss: 1.5167 - val_acc: 0.4232\n",
      "Epoch 72/100\n",
      "20670/20670 [==============================] - 19s 903us/step - loss: 1.3200 - acc: 0.5001 - val_loss: 1.4890 - val_acc: 0.4211\n",
      "Epoch 73/100\n",
      "20670/20670 [==============================] - 19s 909us/step - loss: 1.3007 - acc: 0.5080 - val_loss: 1.5138 - val_acc: 0.4269\n",
      "Epoch 74/100\n",
      "20670/20670 [==============================] - 19s 903us/step - loss: 1.2967 - acc: 0.5064 - val_loss: 1.5337 - val_acc: 0.4182acc: 0\n",
      "Epoch 75/100\n",
      "20670/20670 [==============================] - 19s 916us/step - loss: 1.2951 - acc: 0.5098 - val_loss: 1.5022 - val_acc: 0.4172\n",
      "Epoch 76/100\n",
      "20670/20670 [==============================] - 19s 908us/step - loss: 1.2759 - acc: 0.5178 - val_loss: 1.4924 - val_acc: 0.4241\n",
      "Epoch 77/100\n",
      "20670/20670 [==============================] - 18s 884us/step - loss: 1.3708 - acc: 0.4828 - val_loss: 1.5876 - val_acc: 0.3860\n",
      "Epoch 78/100\n",
      "20670/20670 [==============================] - 18s 884us/step - loss: 1.2841 - acc: 0.5152 - val_loss: 1.4836 - val_acc: 0.4257\n",
      "Epoch 79/100\n",
      "20670/20670 [==============================] - 19s 924us/step - loss: 1.2904 - acc: 0.5114 - val_loss: 1.5077 - val_acc: 0.4201\n",
      "Epoch 80/100\n",
      "20670/20670 [==============================] - 19s 909us/step - loss: 1.2667 - acc: 0.5264 - val_loss: 1.4863 - val_acc: 0.4271\n",
      "Epoch 81/100\n",
      "20670/20670 [==============================] - 19s 924us/step - loss: 1.2830 - acc: 0.5104 - val_loss: 1.5282 - val_acc: 0.4087\n",
      "Epoch 82/100\n",
      "20670/20670 [==============================] - 19s 904us/step - loss: 1.2705 - acc: 0.5218 - val_loss: 1.5169 - val_acc: 0.4265\n",
      "Epoch 83/100\n",
      "20670/20670 [==============================] - 19s 924us/step - loss: 1.2564 - acc: 0.5268 - val_loss: 1.5041 - val_acc: 0.4158\n",
      "Epoch 84/100\n",
      "20670/20670 [==============================] - 19s 914us/step - loss: 1.2430 - acc: 0.5344 - val_loss: 1.4991 - val_acc: 0.4272\n",
      "Epoch 85/100\n",
      "20670/20670 [==============================] - 19s 906us/step - loss: 1.2548 - acc: 0.5269 - val_loss: 1.4962 - val_acc: 0.4300\n",
      "Epoch 86/100\n",
      "20670/20670 [==============================] - 19s 916us/step - loss: 1.2343 - acc: 0.5385 - val_loss: 1.5069 - val_acc: 0.4205\n",
      "Epoch 87/100\n",
      "20670/20670 [==============================] - 19s 910us/step - loss: 1.2394 - acc: 0.5345 - val_loss: 1.5017 - val_acc: 0.4301\n",
      "Epoch 88/100\n",
      "20670/20670 [==============================] - 19s 910us/step - loss: 1.2483 - acc: 0.5301 - val_loss: 1.5042 - val_acc: 0.4286\n",
      "Epoch 89/100\n",
      "20670/20670 [==============================] - 19s 929us/step - loss: 1.2231 - acc: 0.5429 - val_loss: 1.5023 - val_acc: 0.4156\n",
      "Epoch 90/100\n",
      "20670/20670 [==============================] - 19s 913us/step - loss: 1.2537 - acc: 0.5294 - val_loss: 1.5003 - val_acc: 0.4255\n",
      "Epoch 91/100\n",
      "20670/20670 [==============================] - 19s 927us/step - loss: 1.2166 - acc: 0.5479 - val_loss: 1.4935 - val_acc: 0.4344\n",
      "Epoch 92/100\n",
      "20670/20670 [==============================] - 19s 922us/step - loss: 1.2304 - acc: 0.5361 - val_loss: 1.5736 - val_acc: 0.3959\n",
      "Epoch 93/100\n",
      "20670/20670 [==============================] - 19s 914us/step - loss: 1.2451 - acc: 0.5318 - val_loss: 1.5118 - val_acc: 0.4274\n",
      "Epoch 94/100\n",
      "20670/20670 [==============================] - 19s 908us/step - loss: 1.2336 - acc: 0.5351 - val_loss: 1.5401 - val_acc: 0.4125\n",
      "Epoch 95/100\n",
      "20670/20670 [==============================] - 19s 922us/step - loss: 1.2292 - acc: 0.5399 - val_loss: 1.5193 - val_acc: 0.4247\n",
      "Epoch 96/100\n",
      "20670/20670 [==============================] - 20s 948us/step - loss: 1.1988 - acc: 0.5532 - val_loss: 1.5364 - val_acc: 0.4224\n",
      "Epoch 97/100\n",
      "20670/20670 [==============================] - 19s 907us/step - loss: 1.2048 - acc: 0.5480 - val_loss: 1.5389 - val_acc: 0.4298\n",
      "Epoch 98/100\n",
      "20670/20670 [==============================] - 19s 898us/step - loss: 1.1933 - acc: 0.5523 - val_loss: 1.5112 - val_acc: 0.4309\n",
      "Epoch 99/100\n",
      "20670/20670 [==============================] - 19s 912us/step - loss: 1.1797 - acc: 0.5636 - val_loss: 1.5081 - val_acc: 0.4292\n",
      "Epoch 100/100\n",
      "20670/20670 [==============================] - 19s 915us/step - loss: 1.2450 - acc: 0.5301 - val_loss: 1.5036 - val_acc: 0.4325\n"
     ]
    }
   ],
   "source": [
    "history_cnn = model_cnn.fit(x_train_reshaped,\n",
    "                    y_train,\n",
    "                    epochs=100, \n",
    "                    batch_size=100,\n",
    "                    validation_data=(x_val_reshaped, y_val))"
   ]
  },
  {
   "cell_type": "code",
   "execution_count": 35,
   "metadata": {
    "scrolled": true
   },
   "outputs": [
    {
     "name": "stdout",
     "output_type": "stream",
     "text": [
      "dict_keys(['val_loss', 'val_acc', 'loss', 'acc'])\n",
      "range(1, 101)\n"
     ]
    }
   ],
   "source": [
    "print(history_cnn.history.keys())\n",
    "epochs = range(1, len(history_cnn.history['loss']) + 1)\n",
    "print(epochs)"
   ]
  },
  {
   "cell_type": "markdown",
   "metadata": {},
   "source": [
    "## plotting CNN trail - 1 "
   ]
  },
  {
   "cell_type": "code",
   "execution_count": 36,
   "metadata": {},
   "outputs": [
    {
     "data": {
      "image/png": "[encoded data removed]",
      "text/plain": [
       "<Figure size 432x288 with 1 Axes>"
      ]
     },
     "metadata": {
      "needs_background": "light"
     },
     "output_type": "display_data"
    },
    {
     "data": {
      "image/png": "[encoded data removed]",
      "text/plain": [
       "<Figure size 432x288 with 1 Axes>"
      ]
     },
     "metadata": {
      "needs_background": "light"
     },
     "output_type": "display_data"
    }
   ],
   "source": [
    "plt.plot(epochs,history_cnn.history['acc'])\n",
    "plt.plot(epochs,history_cnn.history['val_acc'])\n",
    "plt.title('model accuracy')\n",
    "plt.ylabel('accuracy')\n",
    "plt.xlabel('epochs')\n",
    "plt.legend(['accuracy', 'val_accuracy'], loc='upper left')\n",
    "plt.show()\n",
    "plt.plot(epochs,history_cnn.history['loss'])\n",
    "plt.plot(epochs,history_cnn.history['val_loss'])\n",
    "plt.title('model loss')\n",
    "plt.ylabel('loss')\n",
    "plt.xlabel('epochs')\n",
    "plt.legend(['loss', 'val_loss'], loc='upper right')\n",
    "plt.show()"
   ]
  },
  {
   "cell_type": "markdown",
   "metadata": {},
   "source": [
    "###  Test Model"
   ]
  },
  {
   "cell_type": "code",
   "execution_count": 37,
   "metadata": {},
   "outputs": [
    {
     "name": "stdout",
     "output_type": "stream",
     "text": [
      "20670/20670 [==============================] - 6s 274us/step\n"
     ]
    },
    {
     "data": {
      "text/plain": [
       "[1.1379586915434647, 0.5850024223327637]"
      ]
     },
     "execution_count": 37,
     "metadata": {},
     "output_type": "execute_result"
    }
   ],
   "source": [
    "#Results in form of [loss, accuracy]\n",
    "results_train_cnn = model_cnn.evaluate(x_train_reshaped, y_train)\n",
    "results_train_cnn"
   ]
  },
  {
   "cell_type": "code",
   "execution_count": 38,
   "metadata": {},
   "outputs": [
    {
     "name": "stdout",
     "output_type": "stream",
     "text": [
      "2871/2871 [==============================] - 1s 296us/step\n"
     ]
    },
    {
     "data": {
      "text/plain": [
       "[1.469479252884339, 0.445141077041626]"
      ]
     },
     "execution_count": 38,
     "metadata": {},
     "output_type": "execute_result"
    }
   ],
   "source": [
    "#Results in form [loss, accuracy]\n",
    "results_test_cnn = model_cnn.evaluate(x_test_reshaped, y_test)\n",
    "results_test_cnn"
   ]
  },
  {
   "cell_type": "code",
   "execution_count": 39,
   "metadata": {},
   "outputs": [],
   "source": [
    "y_hat = model_cnn.predict(x_test_reshaped)"
   ]
  },
  {
   "cell_type": "markdown",
   "metadata": {},
   "source": [
    "#### F1 score, recall and precision"
   ]
  },
  {
   "cell_type": "code",
   "execution_count": 40,
   "metadata": {},
   "outputs": [
    {
     "name": "stdout",
     "output_type": "stream",
     "text": [
      "              precision    recall  f1-score   support\n",
      "\n",
      "           0       0.37      0.32      0.34       407\n",
      "           1       0.00      0.00      0.00        37\n",
      "           2       0.30      0.25      0.27       399\n",
      "           3       0.63      0.65      0.64       732\n",
      "           4       0.33      0.38      0.35       494\n",
      "           5       0.54      0.56      0.55       300\n",
      "           6       0.40      0.43      0.41       502\n",
      "\n",
      "   micro avg       0.45      0.45      0.45      2871\n",
      "   macro avg       0.37      0.37      0.37      2871\n",
      "weighted avg       0.44      0.45      0.44      2871\n",
      " samples avg       0.45      0.45      0.45      2871\n",
      "\n"
     ]
    },
    {
     "data": {
      "text/plain": [
       "(array([[0, 0, 1, ..., 0, 0, 0],\n",
       "        [0, 0, 0, ..., 0, 0, 1],\n",
       "        [0, 0, 1, ..., 0, 0, 0],\n",
       "        ...,\n",
       "        [0, 0, 0, ..., 0, 0, 0],\n",
       "        [0, 0, 0, ..., 0, 0, 1],\n",
       "        [0, 0, 0, ..., 0, 1, 0]]),\n",
       " 'F1: 0.4402400852732144',\n",
       " 'precision: 0.43720037723770516',\n",
       " 'recall: 0.445141065830721')"
      ]
     },
     "execution_count": 40,
     "metadata": {},
     "output_type": "execute_result"
    }
   ],
   "source": [
    "def get_metrics():\n",
    "  # Converted continuous probabilities to binary to get F1 score\n",
    "  y_hate = []\n",
    "  for i in range(0,y_hat.shape[0]):\n",
    "    a = [1 if metric == y_hat[i].max() else 0 for metric in y_hat[i]]\n",
    "    y_hate.append(a)\n",
    "  y_pred = np.array(y_hate)\n",
    "  \n",
    "  classification_metrics = classification_report(y_test, y_pred)\n",
    "  print(classification_metrics)\n",
    "  \n",
    "  return y_pred,'F1: {}'.format(f1_score(y_true=y_test, y_pred= y_pred, average = 'weighted')), \\\n",
    "  'precision: {}'.format(precision_score(y_true=y_test, y_pred= y_pred, average = 'weighted')), \\\n",
    "  'recall: {}'.format(recall_score(y_true=y_test, y_pred= y_pred, average = 'weighted')) \n",
    "\n",
    "get_metrics()\n"
   ]
  },
  {
   "cell_type": "code",
   "execution_count": 41,
   "metadata": {},
   "outputs": [],
   "source": [
    "#To get better visual of the confusion matrix:\n",
    "def plot_confusion_matrix(cm, classes,\n",
    "             normalize=False,\n",
    "             title='Confusion matrix',\n",
    "             cmap=plt.cm.Blues):\n",
    "    #Add Normalization Option\n",
    "    '''prints pretty confusion metric with normalization option '''\n",
    "    if normalize:\n",
    "        cm = cm.astype('float') / cm.sum(axis=1)[:, np.newaxis]\n",
    "        print(\"Normalized confusion matrix\")\n",
    "    else:\n",
    "        print('Confusion matrix, without normalization')\n",
    "    \n",
    "#     print(cm)\n",
    "    \n",
    "    plt.imshow(cm, interpolation='nearest', cmap=cmap)\n",
    "    plt.title(title)\n",
    "    plt.colorbar()\n",
    "    tick_marks = np.arange(len(classes))\n",
    "    plt.xticks(tick_marks, classes, rotation=45)\n",
    "    plt.yticks(tick_marks, classes)\n",
    "    \n",
    "    fmt = '.2f' if normalize else 'd'\n",
    "    thresh = cm.max() / 2.\n",
    "    for i, j in itertools.product(range(cm.shape[0]), range(cm.shape[1])):\n",
    "        plt.text(j, i, format(cm[i, j], fmt), horizontalalignment=\"center\", color=\"white\" if cm[i, j] > thresh else \"black\")\n",
    "    \n",
    "    plt.tight_layout()\n",
    "    plt.ylabel('True label')\n",
    "    plt.xlabel('Predicted label')"
   ]
  },
  {
   "cell_type": "code",
   "execution_count": 42,
   "metadata": {},
   "outputs": [
    {
     "name": "stdout",
     "output_type": "stream",
     "text": [
      "Confusion matrix, without normalization\n"
     ]
    },
    {
     "data": {
      "image/png": "[encoded data removed]",
      "text/plain": [
       "<Figure size 432x288 with 2 Axes>"
      ]
     },
     "metadata": {
      "needs_background": "light"
     },
     "output_type": "display_data"
    }
   ],
   "source": [
    "cm_ = confusion_matrix(y_test.argmax(axis = 1), y_hat.argmax(axis = 1))\n",
    "classes_ = ['anger', 'disgust', 'fear', 'happy', 'sad', 'surprise', 'neutral']\n",
    "plot_confusion_matrix(cm_, classes = classes_, normalize=False, \\\n",
    "                      title='Non-normalized confusion matrix')"
   ]
  },
  {
   "cell_type": "markdown",
   "metadata": {},
   "source": [
    "## CNN trail 2"
   ]
  },
  {
   "cell_type": "code",
   "execution_count": 43,
   "metadata": {},
   "outputs": [],
   "source": [
    "# Reshape 1D array to 2D matrix for Conv2D\n",
    "\n",
    "x_train = []\n",
    "for i in range(len(train_df)):\n",
    "  # convert string of pixels to list of integers and standarize data\n",
    "  list_pixels = [int(string)/255 for string in train_df.iloc[i,1].split(' ')]\n",
    "  # reshape 1D to 2D matrix\n",
    "  pixeled_image = np.array(list_pixels).reshape(48,48)\n",
    "  x_train.append(pixeled_image)\n",
    "\n",
    "x = np.array(x_train)\n",
    "y = train_df.iloc[:,0]"
   ]
  },
  {
   "cell_type": "code",
   "execution_count": 44,
   "metadata": {},
   "outputs": [],
   "source": [
    "# Categorize y for compatiblity with softmax activation\n",
    "from keras.utils import to_categorical\n",
    "y = to_categorical(np.array(y))"
   ]
  },
  {
   "cell_type": "code",
   "execution_count": 45,
   "metadata": {},
   "outputs": [
    {
     "name": "stdout",
     "output_type": "stream",
     "text": [
      "(28709, 48, 48)\n",
      "(28709, 7)\n"
     ]
    }
   ],
   "source": [
    "print(x.shape)\n",
    "print(y.shape)"
   ]
  },
  {
   "cell_type": "code",
   "execution_count": 46,
   "metadata": {},
   "outputs": [],
   "source": [
    "# Train_test_split training data into training and test sets\n",
    "x_train1, x_test, y_train1, y_test =  train_test_split(x, y, random_state = 123, test_size = 0.10)"
   ]
  },
  {
   "cell_type": "code",
   "execution_count": 47,
   "metadata": {},
   "outputs": [
    {
     "name": "stdout",
     "output_type": "stream",
     "text": [
      "x_test =  (2871, 48, 48)\n",
      "y_test =  (2871, 7)\n",
      "training data  before splitting into train + validation :\n",
      "x_train1 =  (25838, 48, 48)\n",
      "y_train1 =  (25838, 7)\n"
     ]
    }
   ],
   "source": [
    "print('x_test = ',x_test.shape)\n",
    "print('y_test = ',y_test.shape)\n",
    "print('training data  before splitting into train + validation :')\n",
    "print('x_train1 = ',x_train1.shape)\n",
    "print('y_train1 = ',y_train1.shape)"
   ]
  },
  {
   "cell_type": "code",
   "execution_count": 48,
   "metadata": {},
   "outputs": [],
   "source": [
    "# Create train_test_split for validation sets\n",
    "x_train, x_val, y_train, y_val = train_test_split(x_train1, y_train1, random_state = 123, test_size = 0.20)"
   ]
  },
  {
   "cell_type": "code",
   "execution_count": 49,
   "metadata": {},
   "outputs": [
    {
     "name": "stdout",
     "output_type": "stream",
     "text": [
      "x_train =  (20670, 48, 48)\n",
      "y_train =  (20670, 7)\n",
      "x_val =  (5168, 48, 48)\n",
      "y_val =  (5168, 7)\n"
     ]
    }
   ],
   "source": [
    "print('x_train = ',x_train.shape)\n",
    "print('y_train = ', y_train.shape)\n",
    "print('x_val = ',x_val.shape)\n",
    "print('y_val = ', y_val.shape)"
   ]
  },
  {
   "cell_type": "code",
   "execution_count": 50,
   "metadata": {},
   "outputs": [],
   "source": [
    "# Reshape the data  x_train and x_val\n",
    "# respectively. need to do this because input_shape in model_cnn.add needs a 2D image with \n",
    "# depth specified as 1\n",
    "x_train_reshaped = np.expand_dims(x_train, axis = 3)\n",
    "x_val_reshaped = np.expand_dims(x_val, axis = 3)\n",
    "x_test_reshaped = np.expand_dims(x_test, axis = 3)"
   ]
  },
  {
   "cell_type": "code",
   "execution_count": 51,
   "metadata": {},
   "outputs": [
    {
     "name": "stdout",
     "output_type": "stream",
     "text": [
      "(20670, 48, 48, 1)\n",
      "(5168, 48, 48, 1)\n",
      "(2871, 48, 48, 1)\n"
     ]
    }
   ],
   "source": [
    "print(x_train_reshaped.shape) \n",
    "print(x_val_reshaped.shape) \n",
    "print(x_test_reshaped.shape) "
   ]
  },
  {
   "cell_type": "markdown",
   "metadata": {},
   "source": [
    "### model "
   ]
  },
  {
   "cell_type": "code",
   "execution_count": 17,
   "metadata": {},
   "outputs": [],
   "source": [
    "# Set seed to get same results\n",
    "np.random.seed(123)\n",
    "# Define model as Sequential class\n",
    "model_cnn2 = models.Sequential()\n"
   ]
  },
  {
   "cell_type": "markdown",
   "metadata": {},
   "source": [
    "##### standarized, 4 layers, cnn, tanh, softmax, batch size 10, epoch 30, early callback"
   ]
  },
  {
   "cell_type": "code",
   "execution_count": 18,
   "metadata": {},
   "outputs": [],
   "source": [
    "model_cnn2.add(Conv2D(32, kernel_size=(5, 5), strides=(2, 2),\n",
    "                 activation='tanh',\n",
    "                   input_shape=(48,48,1))) # kernel size = filter window size. 32 = number of output channels\n",
    "\n",
    "model_cnn2.add(MaxPooling2D(pool_size=(2, 2), strides=(2, 2)))\n",
    "model_cnn2.add(Conv2D(64, (5, 5), activation='tanh'))\n",
    "model_cnn2.add(MaxPooling2D(pool_size=(2, 2)))\n",
    "model_cnn2.add(layers.Flatten())\n",
    "model_cnn2.add(layers.Dense(64, activation='tanh'))\n",
    "model_cnn2.add(layers.Dense(7, activation='softmax'))"
   ]
  },
  {
   "cell_type": "code",
   "execution_count": 19,
   "metadata": {},
   "outputs": [
    {
     "name": "stdout",
     "output_type": "stream",
     "text": [
      "Model: \"sequential_2\"\n",
      "_________________________________________________________________\n",
      "Layer (type)                 Output Shape              Param #   \n",
      "=================================================================\n",
      "conv2d_3 (Conv2D)            (None, 22, 22, 32)        832       \n",
      "_________________________________________________________________\n",
      "max_pooling2d_3 (MaxPooling2 (None, 11, 11, 32)        0         \n",
      "_________________________________________________________________\n",
      "conv2d_4 (Conv2D)            (None, 7, 7, 64)          51264     \n",
      "_________________________________________________________________\n",
      "max_pooling2d_4 (MaxPooling2 (None, 3, 3, 64)          0         \n",
      "_________________________________________________________________\n",
      "flatten_2 (Flatten)          (None, 576)               0         \n",
      "_________________________________________________________________\n",
      "dense_3 (Dense)              (None, 64)                36928     \n",
      "_________________________________________________________________\n",
      "dense_4 (Dense)              (None, 7)                 455       \n",
      "=================================================================\n",
      "Total params: 89,479\n",
      "Trainable params: 89,479\n",
      "Non-trainable params: 0\n",
      "_________________________________________________________________\n"
     ]
    }
   ],
   "source": [
    "model_cnn2.summary()"
   ]
  },
  {
   "cell_type": "code",
   "execution_count": 54,
   "metadata": {},
   "outputs": [],
   "source": [
    "model_cnn2.compile(loss='categorical_crossentropy',\n",
    "              optimizer=\"sgd\",\n",
    "              metrics=['acc'])"
   ]
  },
  {
   "cell_type": "code",
   "execution_count": 55,
   "metadata": {},
   "outputs": [],
   "source": [
    "\n",
    "earlystop = EarlyStopping(monitor='val_loss',\n",
    "                              min_delta=0.01,\n",
    "                              patience=3,\n",
    "                              verbose=0, mode='auto')"
   ]
  },
  {
   "cell_type": "code",
   "execution_count": 56,
   "metadata": {},
   "outputs": [
    {
     "name": "stdout",
     "output_type": "stream",
     "text": [
      "Train on 20670 samples, validate on 5168 samples\n",
      "Epoch 1/35\n",
      "20670/20670 [==============================] - 37s 2ms/step - loss: 1.7725 - acc: 0.2710 - val_loss: 1.7061 - val_acc: 0.3119\n",
      "Epoch 2/35\n",
      "20670/20670 [==============================] - 31s 1ms/step - loss: 1.6370 - acc: 0.3642 - val_loss: 1.6145 - val_acc: 0.3725\n",
      "Epoch 3/35\n",
      "20670/20670 [==============================] - 31s 1ms/step - loss: 1.5507 - acc: 0.4085 - val_loss: 1.5627 - val_acc: 0.3992\n",
      "Epoch 4/35\n",
      "20670/20670 [==============================] - 31s 2ms/step - loss: 1.4898 - acc: 0.4327 - val_loss: 1.5128 - val_acc: 0.4168\n",
      "Epoch 5/35\n",
      "20670/20670 [==============================] - 30s 1ms/step - loss: 1.4313 - acc: 0.4542 - val_loss: 1.4823 - val_acc: 0.4294\n",
      "Epoch 6/35\n",
      "20670/20670 [==============================] - 30s 1ms/step - loss: 1.3803 - acc: 0.4716 - val_loss: 1.4634 - val_acc: 0.4396\n",
      "Epoch 7/35\n",
      "20670/20670 [==============================] - 30s 1ms/step - loss: 1.3335 - acc: 0.4965 - val_loss: 1.4548 - val_acc: 0.4478\n",
      "Epoch 8/35\n",
      "20670/20670 [==============================] - 31s 1ms/step - loss: 1.2915 - acc: 0.5116 - val_loss: 1.4301 - val_acc: 0.4559\n",
      "Epoch 9/35\n",
      "20670/20670 [==============================] - 32s 2ms/step - loss: 1.2523 - acc: 0.5254 - val_loss: 1.4356 - val_acc: 0.4565\n",
      "Epoch 10/35\n",
      "20670/20670 [==============================] - 30s 1ms/step - loss: 1.2123 - acc: 0.5424 - val_loss: 1.4145 - val_acc: 0.4652\n",
      "Epoch 11/35\n",
      "20670/20670 [==============================] - 30s 1ms/step - loss: 1.1772 - acc: 0.5584 - val_loss: 1.4175 - val_acc: 0.4741\n",
      "Epoch 12/35\n",
      "20670/20670 [==============================] - 31s 1ms/step - loss: 1.1393 - acc: 0.5715 - val_loss: 1.4630 - val_acc: 0.4671\n",
      "Epoch 13/35\n",
      "20670/20670 [==============================] - 30s 1ms/step - loss: 1.0997 - acc: 0.5886 - val_loss: 1.4314 - val_acc: 0.4727\n"
     ]
    }
   ],
   "source": [
    "history_cnn2 = model_cnn2.fit(x_train_reshaped,\n",
    "                    y_train,\n",
    "                    epochs=35,\n",
    "                    batch_size=10,\n",
    "                    validation_data=(x_val_reshaped, y_val), callbacks= [earlystop])"
   ]
  },
  {
   "cell_type": "markdown",
   "metadata": {},
   "source": [
    "### Testing "
   ]
  },
  {
   "cell_type": "code",
   "execution_count": 59,
   "metadata": {},
   "outputs": [
    {
     "name": "stdout",
     "output_type": "stream",
     "text": [
      "20670/20670 [==============================] - 6s 291us/step\n"
     ]
    },
    {
     "data": {
      "text/plain": [
       "[1.0073632380901238, 0.634494423866272]"
      ]
     },
     "execution_count": 59,
     "metadata": {},
     "output_type": "execute_result"
    }
   ],
   "source": [
    "#Results in form [loss, accuracy]\n",
    "results_train_cnn = model_cnn2.evaluate(x_train_reshaped, y_train)\n",
    "results_train_cnn"
   ]
  },
  {
   "cell_type": "code",
   "execution_count": 60,
   "metadata": {},
   "outputs": [
    {
     "name": "stdout",
     "output_type": "stream",
     "text": [
      "2871/2871 [==============================] - 1s 335us/step\n"
     ]
    },
    {
     "data": {
      "text/plain": [
       "[1.375735697161649, 0.4952978193759918]"
      ]
     },
     "execution_count": 60,
     "metadata": {},
     "output_type": "execute_result"
    }
   ],
   "source": [
    "#Results of train with CNN\n",
    "results_train_cnn = model_cnn2.evaluate(x_test_reshaped, y_test)\n",
    "results_train_cnn"
   ]
  },
  {
   "cell_type": "code",
   "execution_count": 61,
   "metadata": {},
   "outputs": [],
   "source": [
    "y_hat = model_cnn2.predict(x_test_reshaped)"
   ]
  },
  {
   "cell_type": "code",
   "execution_count": 62,
   "metadata": {},
   "outputs": [
    {
     "name": "stdout",
     "output_type": "stream",
     "text": [
      "dict_keys(['val_loss', 'val_acc', 'loss', 'acc'])\n",
      "range(1, 14)\n"
     ]
    }
   ],
   "source": [
    "print(history_cnn2.history.keys())\n",
    "epochs = range(1, len(history_cnn2.history['loss']) + 1)\n",
    "print(epochs)"
   ]
  },
  {
   "cell_type": "code",
   "execution_count": 63,
   "metadata": {},
   "outputs": [
    {
     "data": {
      "image/png": "[encoded data removed]",
      "text/plain": [
       "<Figure size 432x288 with 1 Axes>"
      ]
     },
     "metadata": {
      "needs_background": "light"
     },
     "output_type": "display_data"
    },
    {
     "data": {
      "image/png": "[encoded data removed]",
      "text/plain": [
       "<Figure size 432x288 with 1 Axes>"
      ]
     },
     "metadata": {
      "needs_background": "light"
     },
     "output_type": "display_data"
    }
   ],
   "source": [
    "plt.plot(epochs,history_cnn2.history['acc'])\n",
    "plt.plot(epochs,history_cnn2.history['val_acc'])\n",
    "plt.title('model accuracy')\n",
    "plt.ylabel('accuracy')\n",
    "plt.xlabel('epochs')\n",
    "plt.legend(['accuracy', 'val_accuracy'], loc='upper left')\n",
    "plt.show()\n",
    "plt.plot(epochs,history_cnn2.history['loss'])\n",
    "plt.plot(epochs,history_cnn2.history['val_loss'])\n",
    "plt.title('model loss')\n",
    "plt.ylabel('loss')\n",
    "plt.xlabel('epochs')\n",
    "plt.legend(['loss', 'val_loss'], loc='upper right')\n",
    "plt.show()"
   ]
  },
  {
   "cell_type": "code",
   "execution_count": 64,
   "metadata": {},
   "outputs": [
    {
     "name": "stdout",
     "output_type": "stream",
     "text": [
      "              precision    recall  f1-score   support\n",
      "\n",
      "           0       0.39      0.37      0.38       407\n",
      "           1       0.33      0.03      0.05        37\n",
      "           2       0.38      0.25      0.30       399\n",
      "           3       0.65      0.72      0.69       732\n",
      "           4       0.37      0.49      0.42       494\n",
      "           5       0.60      0.55      0.57       300\n",
      "           6       0.48      0.48      0.48       502\n",
      "\n",
      "   micro avg       0.50      0.50      0.50      2871\n",
      "   macro avg       0.46      0.41      0.41      2871\n",
      "weighted avg       0.49      0.50      0.49      2871\n",
      " samples avg       0.50      0.50      0.50      2871\n",
      "\n"
     ]
    },
    {
     "data": {
      "text/plain": [
       "('F1: 0.48693389304151613',\n",
       " 'precision: 0.4897426065427635',\n",
       " 'recall: 0.4952978056426332')"
      ]
     },
     "execution_count": 64,
     "metadata": {},
     "output_type": "execute_result"
    }
   ],
   "source": [
    "def get_metrics():\n",
    "  # Converted continuous probabilities to binary to get F1 score\n",
    "  y_hate = []\n",
    "  for i in range(0,y_hat.shape[0]):\n",
    "    a = [1 if metric == y_hat[i].max() else 0 for metric in y_hat[i]]\n",
    "    y_hate.append(a)\n",
    "  y_pred = np.array(y_hate)\n",
    "  \n",
    "  classification_metrics = classification_report(y_test, y_pred)\n",
    "  print(classification_metrics)\n",
    "  \n",
    "  return 'F1: {}'.format(f1_score(y_true=y_test, y_pred= y_pred, average = 'weighted')), \\\n",
    "  'precision: {}'.format(precision_score(y_true=y_test, y_pred= y_pred, average = 'weighted')), \\\n",
    "  'recall: {}'.format(recall_score(y_true=y_test, y_pred= y_pred, average = 'weighted')) \n",
    "\n",
    "get_metrics()"
   ]
  },
  {
   "cell_type": "code",
   "execution_count": 65,
   "metadata": {},
   "outputs": [
    {
     "name": "stdout",
     "output_type": "stream",
     "text": [
      "Confusion matrix, without normalization\n"
     ]
    },
    {
     "data": {
      "image/png": "[encoded data removed]",
      "text/plain": [
       "<Figure size 432x288 with 2 Axes>"
      ]
     },
     "metadata": {
      "needs_background": "light"
     },
     "output_type": "display_data"
    }
   ],
   "source": [
    "cm_ = confusion_matrix(y_test.argmax(axis = 1), y_hat.argmax(axis = 1))\n",
    "classes_ = ['anger', 'disgust', 'fear', 'happy', 'sad', 'surprise', 'neutral']\n",
    "plot_confusion_matrix(cm_, classes = classes_, normalize=False, \\\n",
    "                      title='Non-normalized confusion matrix')"
   ]
  },
  {
   "cell_type": "markdown",
   "metadata": {},
   "source": [
    "## CNN trail - 3 "
   ]
  },
  {
   "cell_type": "code",
   "execution_count": 66,
   "metadata": {},
   "outputs": [],
   "source": [
    "# Reshape 1D array to 2D matrix for Conv2D\n",
    "x_train = []\n",
    "for i in range(len(train_df)):\n",
    "  # convert string of pixels to list of integers and standardize data\n",
    "  list_pixels = [int(string)/255 for string in train_df.iloc[i,1].split(' ')]\n",
    "  # reshape 1D to 2D matrix\n",
    "  pixeled_image = np.array(list_pixels).reshape(48,48)\n",
    "  x_train.append(pixeled_image)\n",
    "  \n",
    "x = np.array(x_train)\n",
    "y = train_df.iloc[:,0]"
   ]
  },
  {
   "cell_type": "code",
   "execution_count": 69,
   "metadata": {},
   "outputs": [],
   "source": [
    "# Categorize y to y category for compatiblity with softmax activation\n",
    "from keras.utils import to_categorical\n",
    "y = to_categorical(np.array(y))"
   ]
  },
  {
   "cell_type": "code",
   "execution_count": 70,
   "metadata": {},
   "outputs": [
    {
     "name": "stdout",
     "output_type": "stream",
     "text": [
      "(28709, 48, 48)\n",
      "(28709, 7)\n"
     ]
    }
   ],
   "source": [
    "print(x.shape) \n",
    "print(y.shape)"
   ]
  },
  {
   "cell_type": "code",
   "execution_count": 71,
   "metadata": {},
   "outputs": [],
   "source": [
    "# Train_test_split training data into training and test sets\n",
    "x_train1, x_test, y_train1, y_test =  train_test_split(x, y, \\\n",
    "                                          random_state = 123, test_size = 0.10)"
   ]
  },
  {
   "cell_type": "code",
   "execution_count": 72,
   "metadata": {},
   "outputs": [
    {
     "name": "stdout",
     "output_type": "stream",
     "text": [
      "x_test =  (2871, 48, 48)\n",
      "y_test =  (2871, 7)\n",
      "training data  before splitting into train + validation :\n",
      "x_train1 =  (25838, 48, 48)\n",
      "y_train1 =  (25838, 7)\n"
     ]
    }
   ],
   "source": [
    "print('x_test = ',x_test.shape)\n",
    "print('y_test = ',y_test.shape)\n",
    "print('training data  before splitting into train + validation :')\n",
    "print('x_train1 = ',x_train1.shape)\n",
    "print('y_train1 = ',y_train1.shape)"
   ]
  },
  {
   "cell_type": "code",
   "execution_count": 73,
   "metadata": {},
   "outputs": [],
   "source": [
    "# Create train_test_split for validation sets\n",
    "x_train, x_val, y_train, y_val = train_test_split(x_train1, y_train1, random_state = 123, test_size = 0.20)"
   ]
  },
  {
   "cell_type": "code",
   "execution_count": 74,
   "metadata": {},
   "outputs": [
    {
     "name": "stdout",
     "output_type": "stream",
     "text": [
      "x_train =  (20670, 48, 48)\n",
      "y_train =  (20670, 7)\n",
      "x_val =  (5168, 48, 48)\n",
      "y_val =  (5168, 7)\n"
     ]
    }
   ],
   "source": [
    "print('x_train = ',x_train.shape)\n",
    "print('y_train = ', y_train.shape)\n",
    "print('x_val = ',x_val.shape)\n",
    "print('y_val = ', y_val.shape)"
   ]
  },
  {
   "cell_type": "code",
   "execution_count": 75,
   "metadata": {},
   "outputs": [],
   "source": [
    "x_train_reshaped = np.expand_dims(x_train, axis = 3)\n",
    "x_val_reshaped = np.expand_dims(x_val, axis = 3)\n",
    "x_test_reshaped = np.expand_dims(x_test, axis = 3)"
   ]
  },
  {
   "cell_type": "code",
   "execution_count": 76,
   "metadata": {},
   "outputs": [
    {
     "name": "stdout",
     "output_type": "stream",
     "text": [
      "(20670, 48, 48, 1)\n",
      "(5168, 48, 48, 1)\n",
      "(2871, 48, 48, 1)\n"
     ]
    }
   ],
   "source": [
    "print(x_train_reshaped.shape)\n",
    "print(x_val_reshaped.shape) \n",
    "print(x_test_reshaped.shape)"
   ]
  },
  {
   "cell_type": "markdown",
   "metadata": {},
   "source": [
    "### model "
   ]
  },
  {
   "cell_type": "code",
   "execution_count": 102,
   "metadata": {},
   "outputs": [],
   "source": [
    "# Set seed to get same results\n",
    "np.random.seed(123)\n",
    "# Define model as Sequential class\n",
    "model_cnn3 = models.Sequential()"
   ]
  },
  {
   "cell_type": "markdown",
   "metadata": {},
   "source": [
    "##### increasing layer amount (1 more layer)"
   ]
  },
  {
   "cell_type": "code",
   "execution_count": 103,
   "metadata": {},
   "outputs": [],
   "source": [
    "model_cnn3.add(Conv2D(32, kernel_size=(5, 5), strides=(2, 2),\n",
    "                 activation='tanh',\n",
    "                   input_shape=(48,48,1)))\n",
    "# kernel size = filter window size\n",
    "# 32 = number of output channels\n",
    "# output is 45x45\n",
    "model_cnn3.add(MaxPooling2D(pool_size=(2, 2), strides=(2, 2)))\n",
    "\n",
    "model_cnn3.add(Conv2D(64, (5, 5), activation='tanh'))\n",
    "model_cnn3.add(MaxPooling2D(pool_size=(2, 2)))\n",
    "\n",
    "model_cnn3.add(Conv2D(128, (3, 3), activation='tanh'))\n",
    "model_cnn3.add(MaxPooling2D(pool_size=(1, 1)))\n",
    "\n",
    "model_cnn3.add(layers.Flatten())\n",
    "model_cnn3.add(layers.Dense(64, activation='tanh'))\n",
    "model_cnn3.add(layers.Dense(7, activation='softmax')) # 7 classifications"
   ]
  },
  {
   "cell_type": "code",
   "execution_count": 104,
   "metadata": {},
   "outputs": [
    {
     "name": "stdout",
     "output_type": "stream",
     "text": [
      "Model: \"sequential_7\"\n",
      "_________________________________________________________________\n",
      "Layer (type)                 Output Shape              Param #   \n",
      "=================================================================\n",
      "conv2d_14 (Conv2D)           (None, 22, 22, 32)        832       \n",
      "_________________________________________________________________\n",
      "max_pooling2d_14 (MaxPooling (None, 11, 11, 32)        0         \n",
      "_________________________________________________________________\n",
      "conv2d_15 (Conv2D)           (None, 7, 7, 64)          51264     \n",
      "_________________________________________________________________\n",
      "max_pooling2d_15 (MaxPooling (None, 3, 3, 64)          0         \n",
      "_________________________________________________________________\n",
      "conv2d_16 (Conv2D)           (None, 1, 1, 128)         73856     \n",
      "_________________________________________________________________\n",
      "max_pooling2d_16 (MaxPooling (None, 1, 1, 128)         0         \n",
      "_________________________________________________________________\n",
      "flatten_6 (Flatten)          (None, 128)               0         \n",
      "_________________________________________________________________\n",
      "dense_15 (Dense)             (None, 64)                8256      \n",
      "_________________________________________________________________\n",
      "dense_16 (Dense)             (None, 7)                 455       \n",
      "=================================================================\n",
      "Total params: 134,663\n",
      "Trainable params: 134,663\n",
      "Non-trainable params: 0\n",
      "_________________________________________________________________\n"
     ]
    }
   ],
   "source": [
    "model_cnn3.summary()"
   ]
  },
  {
   "cell_type": "code",
   "execution_count": 105,
   "metadata": {},
   "outputs": [],
   "source": [
    "model_cnn3.compile(loss='categorical_crossentropy',\n",
    "              optimizer=\"sgd\",\n",
    "              metrics=['acc'])"
   ]
  },
  {
   "cell_type": "code",
   "execution_count": 106,
   "metadata": {},
   "outputs": [],
   "source": [
    "earlystop = EarlyStopping(monitor='val_loss',\n",
    "                              min_delta=0.005,\n",
    "                              patience=3,\n",
    "                              verbose=0, mode='auto')"
   ]
  },
  {
   "cell_type": "code",
   "execution_count": 107,
   "metadata": {},
   "outputs": [
    {
     "name": "stdout",
     "output_type": "stream",
     "text": [
      "Train on 20670 samples, validate on 5168 samples\n",
      "Epoch 1/35\n",
      "20670/20670 [==============================] - 30s 1ms/step - loss: 1.7716 - acc: 0.2737 - val_loss: 1.6881 - val_acc: 0.3245\n",
      "Epoch 2/35\n",
      "20670/20670 [==============================] - 30s 1ms/step - loss: 1.6192 - acc: 0.3692 - val_loss: 1.6011 - val_acc: 0.3721\n",
      "Epoch 3/35\n",
      "20670/20670 [==============================] - 30s 1ms/step - loss: 1.5303 - acc: 0.4132 - val_loss: 1.5353 - val_acc: 0.4067\n",
      "Epoch 4/35\n",
      "20670/20670 [==============================] - 30s 1ms/step - loss: 1.4623 - acc: 0.4394 - val_loss: 1.4915 - val_acc: 0.4209\n",
      "Epoch 5/35\n",
      "20670/20670 [==============================] - 30s 1ms/step - loss: 1.4007 - acc: 0.4645 - val_loss: 1.4591 - val_acc: 0.4346\n",
      "Epoch 6/35\n",
      "20670/20670 [==============================] - 30s 1ms/step - loss: 1.3483 - acc: 0.4867 - val_loss: 1.4543 - val_acc: 0.4410\n",
      "Epoch 7/35\n",
      "20670/20670 [==============================] - 31s 1ms/step - loss: 1.2989 - acc: 0.5065 - val_loss: 1.4361 - val_acc: 0.4627\n",
      "Epoch 8/35\n",
      "20670/20670 [==============================] - 31s 1ms/step - loss: 1.2561 - acc: 0.5233 - val_loss: 1.4167 - val_acc: 0.4553\n",
      "Epoch 9/35\n",
      "20670/20670 [==============================] - 31s 1ms/step - loss: 1.2131 - acc: 0.5415 - val_loss: 1.4319 - val_acc: 0.4613\n",
      "Epoch 10/35\n",
      "20670/20670 [==============================] - 31s 2ms/step - loss: 1.1710 - acc: 0.5566 - val_loss: 1.4156 - val_acc: 0.4661\n",
      "Epoch 11/35\n",
      "20670/20670 [==============================] - 31s 1ms/step - loss: 1.1299 - acc: 0.5759 - val_loss: 1.4305 - val_acc: 0.4733\n"
     ]
    }
   ],
   "source": [
    "history_cnn3 = model_cnn3.fit(x_train_reshaped,\n",
    "                    y_train,\n",
    "                    epochs=35,\n",
    "                    batch_size=10,\n",
    "                    validation_data=(x_val_reshaped, y_val), callbacks= [earlystop])"
   ]
  },
  {
   "cell_type": "markdown",
   "metadata": {},
   "source": [
    "### Test "
   ]
  },
  {
   "cell_type": "code",
   "execution_count": 108,
   "metadata": {},
   "outputs": [
    {
     "name": "stdout",
     "output_type": "stream",
     "text": [
      "20670/20670 [==============================] - 6s 284us/step\n"
     ]
    },
    {
     "data": {
      "text/plain": [
       "[1.0207718687929506, 0.6193033456802368]"
      ]
     },
     "execution_count": 108,
     "metadata": {},
     "output_type": "execute_result"
    }
   ],
   "source": [
    "#Results in form [loss, accuracy]\n",
    "results_train_cnn = model_cnn3.evaluate(x_train_reshaped, y_train)\n",
    "results_train_cnn"
   ]
  },
  {
   "cell_type": "code",
   "execution_count": 109,
   "metadata": {},
   "outputs": [
    {
     "name": "stdout",
     "output_type": "stream",
     "text": [
      "2871/2871 [==============================] - 1s 300us/step\n"
     ]
    },
    {
     "data": {
      "text/plain": [
       "[1.375735697161649, 0.4952978193759918]"
      ]
     },
     "execution_count": 109,
     "metadata": {},
     "output_type": "execute_result"
    }
   ],
   "source": [
    "#Results of train with CNN\n",
    "results_train_cnn = model_cnn2.evaluate(x_test_reshaped, y_test)\n",
    "results_train_cnn"
   ]
  },
  {
   "cell_type": "code",
   "execution_count": 110,
   "metadata": {},
   "outputs": [],
   "source": [
    "y_hat = model_cnn3.predict(x_test_reshaped)"
   ]
  },
  {
   "cell_type": "code",
   "execution_count": 111,
   "metadata": {},
   "outputs": [
    {
     "name": "stdout",
     "output_type": "stream",
     "text": [
      "dict_keys(['val_loss', 'val_acc', 'loss', 'acc'])\n",
      "range(1, 12)\n"
     ]
    }
   ],
   "source": [
    "print(history_cnn3.history.keys())\n",
    "epochs = range(1, len(history_cnn3.history['loss']) + 1)\n",
    "print(epochs)"
   ]
  },
  {
   "cell_type": "code",
   "execution_count": 112,
   "metadata": {},
   "outputs": [
    {
     "data": {
      "image/png": "[encoded data removed]",
      "text/plain": [
       "<Figure size 432x288 with 1 Axes>"
      ]
     },
     "metadata": {
      "needs_background": "light"
     },
     "output_type": "display_data"
    },
    {
     "data": {
      "image/png": "[encoded data removed]",
      "text/plain": [
       "<Figure size 432x288 with 1 Axes>"
      ]
     },
     "metadata": {
      "needs_background": "light"
     },
     "output_type": "display_data"
    }
   ],
   "source": [
    "plt.plot(epochs,history_cnn3.history['acc'])\n",
    "plt.plot(epochs,history_cnn3.history['val_acc'])\n",
    "plt.title('model accuracy')\n",
    "plt.ylabel('accuracy')\n",
    "plt.xlabel('epochs')\n",
    "plt.legend(['accuracy', 'val_accuracy'], loc='upper left')\n",
    "plt.show()\n",
    "plt.plot(epochs,history_cnn3.history['loss'])\n",
    "plt.plot(epochs,history_cnn3.history['val_loss'])\n",
    "plt.title('model loss')\n",
    "plt.ylabel('loss')\n",
    "plt.xlabel('epochs')\n",
    "plt.legend(['loss', 'val_loss'], loc='upper right')\n",
    "plt.show()"
   ]
  },
  {
   "cell_type": "code",
   "execution_count": 113,
   "metadata": {},
   "outputs": [
    {
     "name": "stdout",
     "output_type": "stream",
     "text": [
      "              precision    recall  f1-score   support\n",
      "\n",
      "           0       0.46      0.27      0.34       407\n",
      "           1       0.33      0.16      0.22        37\n",
      "           2       0.36      0.27      0.31       399\n",
      "           3       0.68      0.73      0.70       732\n",
      "           4       0.35      0.42      0.38       494\n",
      "           5       0.60      0.59      0.60       300\n",
      "           6       0.42      0.52      0.47       502\n",
      "\n",
      "   micro avg       0.49      0.49      0.49      2871\n",
      "   macro avg       0.46      0.43      0.43      2871\n",
      "weighted avg       0.49      0.49      0.48      2871\n",
      " samples avg       0.49      0.49      0.49      2871\n",
      "\n"
     ]
    },
    {
     "data": {
      "text/plain": [
       "('F1: 0.4833647712701467',\n",
       " 'precision: 0.4876076182740867',\n",
       " 'recall: 0.49146638801811215')"
      ]
     },
     "execution_count": 113,
     "metadata": {},
     "output_type": "execute_result"
    }
   ],
   "source": [
    "def get_metrics():\n",
    "  # Converted continuous probabilities to binary to get F1 score\n",
    "  y_hate = []\n",
    "  for i in range(0,y_hat.shape[0]):\n",
    "    a = [1 if metric == y_hat[i].max() else 0 for metric in y_hat[i]]\n",
    "    y_hate.append(a)\n",
    "  y_pred = np.array(y_hate)\n",
    "  \n",
    "  classification_metrics = classification_report(y_test, y_pred)\n",
    "  print(classification_metrics)\n",
    "  \n",
    "  return 'F1: {}'.format(f1_score(y_true=y_test, y_pred= y_pred, average = 'weighted')), \\\n",
    "  'precision: {}'.format(precision_score(y_true=y_test, y_pred= y_pred, average = 'weighted')), \\\n",
    "  'recall: {}'.format(recall_score(y_true=y_test, y_pred= y_pred, average = 'weighted')) \n",
    "\n",
    "get_metrics()"
   ]
  },
  {
   "cell_type": "code",
   "execution_count": 114,
   "metadata": {},
   "outputs": [
    {
     "name": "stdout",
     "output_type": "stream",
     "text": [
      "Confusion matrix, without normalization\n"
     ]
    },
    {
     "data": {
      "image/png": "[encoded data removed]",
      "text/plain": [
       "<Figure size 432x288 with 2 Axes>"
      ]
     },
     "metadata": {
      "needs_background": "light"
     },
     "output_type": "display_data"
    }
   ],
   "source": [
    "cm_ = confusion_matrix(y_test.argmax(axis = 1), y_hat.argmax(axis = 1))\n",
    "classes_ = ['anger', 'disgust', 'fear', 'happy', 'sad', 'surprise', 'neutral']\n",
    "plot_confusion_matrix(cm_, classes = classes_, normalize=False, \\\n",
    "                      title='Non-normalized confusion matrix')"
   ]
  },
  {
   "cell_type": "markdown",
   "metadata": {},
   "source": [
    "## Transfer Learning (VGG16) "
   ]
  },
  {
   "cell_type": "code",
   "execution_count": 135,
   "metadata": {},
   "outputs": [],
   "source": [
    "x_train = []\n",
    "for i in range(len(train_df)):\n",
    "  # convert string of pixels to list of integers and standarize data\n",
    "  list_pixels = [int(string)/255 for string in train_df.iloc[i,1].split(' ')]\n",
    "  # reshape 1D to 2D matrix\n",
    "  pixeled_image = np.array(list_pixels).reshape(48,48)\n",
    "  x_train.append(pixeled_image)\n",
    "\n",
    "x = np.array(x_train)\n",
    "y = train_df.iloc[:,0]"
   ]
  },
  {
   "cell_type": "code",
   "execution_count": 136,
   "metadata": {},
   "outputs": [],
   "source": [
    "# Categorize y to y category for compatiblity with softmax activation\n",
    "from keras.utils import to_categorical\n",
    "y = to_categorical(np.array(y))"
   ]
  },
  {
   "cell_type": "code",
   "execution_count": 137,
   "metadata": {},
   "outputs": [
    {
     "name": "stdout",
     "output_type": "stream",
     "text": [
      "(28709, 48, 48)\n",
      "(28709, 7)\n"
     ]
    }
   ],
   "source": [
    "print(x.shape) \n",
    "print(y.shape)"
   ]
  },
  {
   "cell_type": "code",
   "execution_count": 138,
   "metadata": {},
   "outputs": [],
   "source": [
    "x_train1, x_test, y_train1, y_test =  train_test_split(x, y, \\\n",
    "                                          random_state = 123, test_size = 0.10)"
   ]
  },
  {
   "cell_type": "code",
   "execution_count": 139,
   "metadata": {},
   "outputs": [
    {
     "name": "stdout",
     "output_type": "stream",
     "text": [
      "x_test =  (2871, 48, 48)\n",
      "y_test =  (2871, 7)\n",
      "training data  before splitting into train + validation :\n",
      "x_train1 =  (25838, 48, 48)\n",
      "y_train1 =  (25838, 7)\n"
     ]
    }
   ],
   "source": [
    "print('x_test = ',x_test.shape)\n",
    "print('y_test = ',y_test.shape)\n",
    "print('training data  before splitting into train + validation :')\n",
    "print('x_train1 = ',x_train1.shape)\n",
    "print('y_train1 = ',y_train1.shape)"
   ]
  },
  {
   "cell_type": "code",
   "execution_count": 140,
   "metadata": {},
   "outputs": [],
   "source": [
    "x_train, x_val, y_train, y_val = train_test_split(x_train1, y_train1, random_state = 123, test_size = 0.20)"
   ]
  },
  {
   "cell_type": "code",
   "execution_count": 141,
   "metadata": {},
   "outputs": [
    {
     "name": "stdout",
     "output_type": "stream",
     "text": [
      "x_train =  (20670, 48, 48)\n",
      "y_train =  (20670, 7)\n",
      "x_val =  (5168, 48, 48)\n",
      "y_val =  (5168, 7)\n"
     ]
    }
   ],
   "source": [
    "print('x_train = ',x_train.shape)\n",
    "print('y_train = ', y_train.shape)\n",
    "print('x_val = ',x_val.shape)\n",
    "print('y_val = ', y_val.shape)"
   ]
  },
  {
   "cell_type": "code",
   "execution_count": 142,
   "metadata": {},
   "outputs": [],
   "source": [
    "x_train_reshaped = np.expand_dims(x_train, axis = 3)\n",
    "x_val_reshaped = np.expand_dims(x_val, axis = 3)\n",
    "x_test_reshaped = np.expand_dims(x_test, axis = 3)"
   ]
  },
  {
   "cell_type": "code",
   "execution_count": 143,
   "metadata": {},
   "outputs": [],
   "source": [
    "x_train_reshaped = np.repeat(x_train_reshaped, 3, axis=3)\n",
    "x_val_reshaped = np.repeat(x_val_reshaped, 3, axis=3)\n",
    "x_test_reshaped = np.repeat(x_test_reshaped, 3, axis=3)"
   ]
  },
  {
   "cell_type": "code",
   "execution_count": 144,
   "metadata": {},
   "outputs": [
    {
     "name": "stdout",
     "output_type": "stream",
     "text": [
      "(20670, 48, 48, 3)\n",
      "(5168, 48, 48, 3)\n",
      "(2871, 48, 48, 3)\n"
     ]
    }
   ],
   "source": [
    "print(x_train_reshaped.shape)\n",
    "print(x_val_reshaped.shape) \n",
    "print(x_test_reshaped.shape)"
   ]
  },
  {
   "cell_type": "code",
   "execution_count": 145,
   "metadata": {},
   "outputs": [
    {
     "data": {
      "text/plain": [
       "(2871, 7)"
      ]
     },
     "execution_count": 145,
     "metadata": {},
     "output_type": "execute_result"
    }
   ],
   "source": [
    "y_test.shape"
   ]
  },
  {
   "cell_type": "markdown",
   "metadata": {},
   "source": [
    "## model "
   ]
  },
  {
   "cell_type": "code",
   "execution_count": 146,
   "metadata": {},
   "outputs": [],
   "source": [
    "# Set seed to get same results\n",
    "np.random.seed(123)\n",
    "cnn_base = VGG16(include_top= False, weights='imagenet', input_shape = (48,48,3))"
   ]
  },
  {
   "cell_type": "code",
   "execution_count": 147,
   "metadata": {},
   "outputs": [],
   "source": [
    "# Define model as Sequential class\n",
    "model_cnn4 = models.Sequential()"
   ]
  },
  {
   "cell_type": "code",
   "execution_count": 148,
   "metadata": {},
   "outputs": [],
   "source": [
    "model_cnn4.add(cnn_base)\n",
    "model_cnn4.add(layers.Flatten())\n",
    "model_cnn4.add(layers.Dense(128, activation='tanh'))\n",
    "model_cnn4.add(layers.Dense(64, activation='tanh'))\n",
    "model_cnn4.add(layers.Dense(7, activation='softmax')) # 7 classification"
   ]
  },
  {
   "cell_type": "code",
   "execution_count": 149,
   "metadata": {},
   "outputs": [],
   "source": [
    "model_cnn4.compile(loss='categorical_crossentropy',\n",
    "\n",
    "                  optimizer=\"sgd\",\n",
    "              metrics=['acc'])"
   ]
  },
  {
   "cell_type": "code",
   "execution_count": 150,
   "metadata": {},
   "outputs": [
    {
     "name": "stdout",
     "output_type": "stream",
     "text": [
      "Model: \"sequential_9\"\n",
      "_________________________________________________________________\n",
      "Layer (type)                 Output Shape              Param #   \n",
      "=================================================================\n",
      "vgg16 (Model)                (None, 1, 1, 512)         14714688  \n",
      "_________________________________________________________________\n",
      "flatten_8 (Flatten)          (None, 512)               0         \n",
      "_________________________________________________________________\n",
      "dense_20 (Dense)             (None, 128)               65664     \n",
      "_________________________________________________________________\n",
      "dense_21 (Dense)             (None, 64)                8256      \n",
      "_________________________________________________________________\n",
      "dense_22 (Dense)             (None, 7)                 455       \n",
      "=================================================================\n",
      "Total params: 14,789,063\n",
      "Trainable params: 14,789,063\n",
      "Non-trainable params: 0\n",
      "_________________________________________________________________\n"
     ]
    }
   ],
   "source": [
    "model_cnn4.summary()"
   ]
  },
  {
   "cell_type": "code",
   "execution_count": 151,
   "metadata": {},
   "outputs": [],
   "source": [
    "for layer in model_cnn4.layers[:16]:\n",
    "   layer.trainable=False\n",
    "for layer in model_cnn4.layers[16:]:\n",
    "   layer.trainable=True"
   ]
  },
  {
   "cell_type": "code",
   "execution_count": 152,
   "metadata": {},
   "outputs": [],
   "source": [
    "earlystop = EarlyStopping(monitor='val_loss',\n",
    "                              min_delta=0.005,\n",
    "                              patience=2,\n",
    "                              verbose=0, mode='auto')"
   ]
  },
  {
   "cell_type": "code",
   "execution_count": 153,
   "metadata": {},
   "outputs": [
    {
     "name": "stderr",
     "output_type": "stream",
     "text": [
      "C:\\Users\\Shoukkiya_Ashraf\\miniconda3\\lib\\site-packages\\keras\\engine\\training.py:297: UserWarning: Discrepancy between trainable weights and collected trainable weights, did you set `model.trainable` without calling `model.compile` after ?\n",
      "  'Discrepancy between trainable weights and collected trainable'\n"
     ]
    },
    {
     "name": "stdout",
     "output_type": "stream",
     "text": [
      "Train on 20670 samples, validate on 5168 samples\n",
      "Epoch 1/15\n",
      "20670/20670 [==============================] - 2420s 117ms/step - loss: 1.4428 - acc: 0.4402 - val_loss: 1.3529 - val_acc: 0.4942\n",
      "Epoch 2/15\n",
      "20670/20670 [==============================] - 2435s 118ms/step - loss: 1.1670 - acc: 0.5608 - val_loss: 1.1480 - val_acc: 0.5646\n",
      "Epoch 3/15\n",
      "20670/20670 [==============================] - 2484s 120ms/step - loss: 1.0405 - acc: 0.6075 - val_loss: 1.0842 - val_acc: 0.5882\n",
      "Epoch 4/15\n",
      "20670/20670 [==============================] - 2837s 137ms/step - loss: 0.9447 - acc: 0.6493 - val_loss: 1.1026 - val_acc: 0.5991\n",
      "Epoch 5/15\n",
      "20670/20670 [==============================] - 2537s 123ms/step - loss: 0.8420 - acc: 0.6886 - val_loss: 1.1174 - val_acc: 0.5985\n"
     ]
    }
   ],
   "source": [
    "\n",
    "history_cnn4 = model_cnn4.fit(x_train_reshaped,\n",
    "                    y_train,\n",
    "                    epochs=15,\n",
    "                    batch_size=10,\n",
    "                    validation_data=(x_val_reshaped, y_val), callbacks= [earlystop])\n",
    "\n"
   ]
  },
  {
   "cell_type": "markdown",
   "metadata": {},
   "source": [
    "### Evaluation "
   ]
  },
  {
   "cell_type": "code",
   "execution_count": 155,
   "metadata": {},
   "outputs": [
    {
     "name": "stdout",
     "output_type": "stream",
     "text": [
      "20670/20670 [==============================] - 486s 24ms/step\n"
     ]
    },
    {
     "data": {
      "text/plain": [
       "[0.736757374328868, 0.7234155535697937]"
      ]
     },
     "execution_count": 155,
     "metadata": {},
     "output_type": "execute_result"
    }
   ],
   "source": [
    "# Evaluate train data\n",
    "results_train_cnn = model_cnn4.evaluate(x_train_reshaped, y_train)\n",
    "results_train_cnn"
   ]
  },
  {
   "cell_type": "code",
   "execution_count": 156,
   "metadata": {},
   "outputs": [
    {
     "name": "stdout",
     "output_type": "stream",
     "text": [
      "2871/2871 [==============================] - 68s 24ms/step\n"
     ]
    },
    {
     "data": {
      "text/plain": [
       "[1.0883105667324193, 0.6081504821777344]"
      ]
     },
     "execution_count": 156,
     "metadata": {},
     "output_type": "execute_result"
    }
   ],
   "source": [
    "# Evaluate test data\n",
    "results_test_cnn = model_cnn4.evaluate(x_test_reshaped, y_test)\n",
    "results_test_cnn"
   ]
  },
  {
   "cell_type": "code",
   "execution_count": 157,
   "metadata": {},
   "outputs": [
    {
     "name": "stdout",
     "output_type": "stream",
     "text": [
      "Saved model to VGG16_result.h5 \n"
     ]
    }
   ],
   "source": [
    "#saving the current best for future works\n",
    "model_json = model_cnn4.to_json()\n",
    "with open(\"VGG16_result\", \"w\") as json_file:\n",
    "    json_file.write(model_json)\n",
    "# serialize weights to HDF5\n",
    "model_cnn4.save_weights(\"VGG16_result.h5\")\n",
    "print(\"Saved model to VGG16_result.h5 \")"
   ]
  },
  {
   "cell_type": "markdown",
   "metadata": {},
   "source": [
    "### Plotting"
   ]
  },
  {
   "cell_type": "code",
   "execution_count": 159,
   "metadata": {},
   "outputs": [],
   "source": [
    "y_hat4 = model_cnn4.predict(x_test_reshaped)"
   ]
  },
  {
   "cell_type": "code",
   "execution_count": 160,
   "metadata": {},
   "outputs": [
    {
     "name": "stdout",
     "output_type": "stream",
     "text": [
      "dict_keys(['val_loss', 'val_acc', 'loss', 'acc'])\n",
      "range(1, 6)\n"
     ]
    }
   ],
   "source": [
    "print(history_cnn4.history.keys())\n",
    "epochs = range(1, len(history_cnn4.history['loss']) + 1)\n",
    "print(epochs)"
   ]
  },
  {
   "cell_type": "code",
   "execution_count": 161,
   "metadata": {},
   "outputs": [
    {
     "data": {
      "image/png": "[encoded data removed]",
      "text/plain": [
       "<Figure size 432x288 with 1 Axes>"
      ]
     },
     "metadata": {
      "needs_background": "light"
     },
     "output_type": "display_data"
    },
    {
     "data": {
      "image/png": "[encoded data removed]",
      "text/plain": [
       "<Figure size 432x288 with 1 Axes>"
      ]
     },
     "metadata": {
      "needs_background": "light"
     },
     "output_type": "display_data"
    }
   ],
   "source": [
    "plt.plot(epochs,history_cnn4.history['acc'])\n",
    "plt.plot(epochs,history_cnn4.history['val_acc'])\n",
    "plt.title('model accuracy - VGG16')\n",
    "plt.ylabel('accuracy')\n",
    "plt.xlabel('epochs')\n",
    "plt.legend(['accuracy', 'val_accuracy'], loc='upper left')\n",
    "plt.show()\n",
    "plt.plot(epochs,history_cnn4.history['loss'])\n",
    "plt.plot(epochs,history_cnn4.history['val_loss'])\n",
    "plt.title('model loss - VGG16')\n",
    "plt.ylabel('loss')\n",
    "plt.xlabel('epochs')\n",
    "plt.legend(['loss', 'val_loss'], loc='upper right')\n",
    "plt.show()"
   ]
  },
  {
   "cell_type": "code",
   "execution_count": 167,
   "metadata": {},
   "outputs": [
    {
     "name": "stdout",
     "output_type": "stream",
     "text": [
      "              precision    recall  f1-score   support\n",
      "\n",
      "           0       0.52      0.58      0.55       407\n",
      "           1       0.78      0.19      0.30        37\n",
      "           2       0.39      0.43      0.41       399\n",
      "           3       0.75      0.91      0.82       732\n",
      "           4       0.61      0.36      0.46       494\n",
      "           5       0.67      0.71      0.69       300\n",
      "           6       0.58      0.54      0.56       502\n",
      "\n",
      "   micro avg       0.61      0.61      0.61      2871\n",
      "   macro avg       0.61      0.53      0.54      2871\n",
      "weighted avg       0.61      0.61      0.60      2871\n",
      " samples avg       0.61      0.61      0.61      2871\n",
      "\n"
     ]
    },
    {
     "data": {
      "text/plain": [
       "('F1: 0.5970629620902691',\n",
       " 'precision: 0.6057969835943539',\n",
       " 'recall: 0.6081504702194357')"
      ]
     },
     "execution_count": 167,
     "metadata": {},
     "output_type": "execute_result"
    }
   ],
   "source": [
    "def get_metrics():\n",
    "  # Converted continuous probabilities to binary to get F1 score\n",
    "  y_hate4 = []\n",
    "  for i in range(0,y_hat4.shape[0]):\n",
    "    a = [1 if metric == y_hat4[i].max() else 0 for metric in y_hat4[i]]\n",
    "    y_hate4.append(a)\n",
    "  y_pred = np.array(y_hate4)\n",
    "  \n",
    "  classification_metrics = classification_report(y_test, y_pred)\n",
    "  print(classification_metrics)\n",
    "  \n",
    "  return 'F1: {}'.format(f1_score(y_true=y_test, y_pred= y_pred, average = 'weighted')), \\\n",
    "  'precision: {}'.format(precision_score(y_true=y_test, y_pred= y_pred, average = 'weighted')), \\\n",
    "  'recall: {}'.format(recall_score(y_true=y_test, y_pred= y_pred, average = 'weighted')) \n",
    "\n",
    "get_metrics()"
   ]
  },
  {
   "cell_type": "code",
   "execution_count": 168,
   "metadata": {},
   "outputs": [
    {
     "name": "stdout",
     "output_type": "stream",
     "text": [
      "Confusion matrix, without normalization\n"
     ]
    },
    {
     "data": {
      "image/png": "[encoded data removed]",
      "text/plain": [
       "<Figure size 432x288 with 2 Axes>"
      ]
     },
     "metadata": {
      "needs_background": "light"
     },
     "output_type": "display_data"
    }
   ],
   "source": [
    "cm_ = confusion_matrix(y_test.argmax(axis = 1), y_hat4.argmax(axis = 1))\n",
    "classes_ = ['anger', 'disgust', 'fear', 'happy', 'sad', 'surprise', 'neutral']\n",
    "plot_confusion_matrix(cm_, classes = classes_, normalize=False, \\\n",
    "                      title='Non-normalized confusion matrix')"
   ]
  },
  {
   "cell_type": "markdown",
   "metadata": {},
   "source": [
    "##  Transfer learning -VGG19 "
   ]
  },
  {
   "cell_type": "code",
   "execution_count": 4,
   "metadata": {},
   "outputs": [],
   "source": [
    "# Reshape 1D array to 2D matrix for Conv2D\n",
    "\n",
    "x_train = []\n",
    "for i in range(len(train_df)):\n",
    "  # convert string of pixels to list of integers and standarize data\n",
    "  list_pixels = [int(string)/255 for string in train_df.iloc[i,1].split(' ')]\n",
    "  # reshape 1D to 2D matrix\n",
    "  pixeled_image = np.array(list_pixels).reshape(48,48)\n",
    "  x_train.append(pixeled_image)\n",
    "\n",
    "x = np.array(x_train)\n",
    "y = train_df.iloc[:,0]"
   ]
  },
  {
   "cell_type": "code",
   "execution_count": 5,
   "metadata": {},
   "outputs": [
    {
     "data": {
      "text/plain": [
       "3    7215\n",
       "6    4965\n",
       "4    4830\n",
       "2    4097\n",
       "0    3995\n",
       "5    3171\n",
       "1     436\n",
       "Name: emotion, dtype: int64"
      ]
     },
     "execution_count": 5,
     "metadata": {},
     "output_type": "execute_result"
    }
   ],
   "source": [
    "y.value_counts()"
   ]
  },
  {
   "cell_type": "markdown",
   "metadata": {},
   "source": [
    "###### imbalance in value "
   ]
  },
  {
   "cell_type": "code",
   "execution_count": 6,
   "metadata": {},
   "outputs": [
    {
     "name": "stdout",
     "output_type": "stream",
     "text": [
      "[299, 388, 416, 473, 533, 573, 758, 807, 826, 845, 864, 1073, 1096, 1115, 1265, 1270, 1310, 1542, 1619, 1661, 1777, 1843, 1975, 2005, 2151, 2163, 2275, 2321, 2389, 2419, 2542, 2625, 2695, 2732, 2742, 2746, 2787, 2795, 2844, 2939, 3063, 3101, 3195, 3286, 3292, 3347, 3516, 3521, 3561, 3626, 3690, 3758, 3778, 3865, 4002, 4004, 4078, 4088, 4265, 4312, 4448, 4481, 4537, 4587, 4706, 4737, 4805, 4882, 4889, 4897, 4908, 4969, 5085, 5168, 5197, 5203, 5328, 5335, 5377, 5667, 5692, 5785, 5830, 5958, 5964, 6145, 6177, 6229, 6231, 6331, 6342, 6422, 6454, 6488, 6548, 6562, 6638, 6780, 6867, 6878, 6926, 7049, 7068, 7108, 7143, 7192, 7313, 7386, 7405, 7455, 7468, 7503, 7592, 7597, 7704, 7733, 7835, 7837, 8155, 8218, 8315, 8353, 8379, 8415, 8416, 8509, 8512, 8573, 8585, 8628, 8675, 8692, 8726, 8823, 8877, 8893, 8948, 9023, 9043, 9090, 9145, 9159, 9189, 9204, 9297, 9343, 9366, 9460, 9464, 9472, 9504, 9612, 9654, 9679, 9695, 9716, 9733, 9738, 9844, 9913, 10018, 10022, 10053, 10112, 10137, 10236, 10316, 10414, 10435, 10521, 10532, 10538, 10606, 10646, 10705, 10731, 10732, 11202, 11222, 11223, 11250, 11373, 11383, 11529, 11622, 11639, 11656, 11731, 11745, 11873, 11971, 12003, 12058, 12072, 12115, 12179, 12264, 12280, 12417, 12499, 12620, 12753, 12807, 12838, 12875, 12906, 13155, 13248, 13263, 13367, 13372, 13445, 13458, 13551, 13597, 13652, 13736, 13847, 13857, 14041, 14067, 14110, 14140, 14153, 14257, 14274, 14396, 14652, 14680, 14685, 14774, 14779, 14787, 14858, 14869, 14917, 14954, 14958, 14979, 15027, 15043, 15050, 15110, 15287, 15361, 15430, 15691, 15780, 15800, 15850, 15862, 16000, 16021, 16054, 16112, 16119, 16121, 16188, 16190, 16205, 16219, 16264, 16382, 16386, 16409, 16452, 16473, 16517, 16556, 16566, 16580, 16591, 16673, 16718, 16723, 16815, 16847, 16924, 16931, 16953, 17252, 17260, 17292, 17299, 17349, 17444, 17531, 17719, 17751, 17771, 17811, 17852, 17958, 17994, 18077, 18134, 18215, 18221, 18230, 18269, 18352, 18353, 18374, 18464, 18499, 18612, 18716, 18989, 19180, 19251, 19257, 19488, 19608, 19633, 19649, 19734, 19770, 19801, 19807, 19813, 19831, 19907, 19911, 19991, 20030, 20052, 20103, 20137, 20225, 20325, 20335, 20384, 20475, 20485, 20703, 20706, 20748, 20761, 20904, 21116, 21187, 21224, 21422, 21423, 21580, 21604, 21616, 21668, 21679, 21744, 21759, 21765, 21799, 21816, 21851, 22055, 22118, 22196, 22320, 22630, 22746, 22749, 23025, 23123, 23141, 23153, 23237, 23613, 23660, 23665, 23683, 23698, 23701, 23876, 23898, 23967, 23982, 24042, 24114, 24155, 24431, 24461, 24576, 24578, 24634, 24639, 24870, 24950, 24955, 25092, 25095, 25161, 25238, 25267, 25329, 25419, 25538, 25541, 25607, 25657, 25717, 25749, 25847, 25955, 26002, 26324, 26325, 26327, 26480, 26489, 26499, 26544, 26795, 26822, 26857, 26859, 26864, 26879, 26941, 26984, 27201, 27244, 27765, 27771, 27881, 27894, 27925, 28029, 28181, 28203, 28232, 28260, 28332, 28390, 28598, 28650]\n"
     ]
    }
   ],
   "source": [
    "flag = 0\n",
    "del_list = []\n",
    "for i in range(len(y)):\n",
    "    if y[i] == 1 :\n",
    "        flag += 1\n",
    "        del_list.append(i)\n",
    "print(del_list)        "
   ]
  },
  {
   "cell_type": "code",
   "execution_count": 7,
   "metadata": {},
   "outputs": [],
   "source": [
    "# Categorize y for compatiblity with softmax activation\n",
    "from keras.utils import to_categorical\n",
    "y = to_categorical(np.array(y))"
   ]
  },
  {
   "cell_type": "code",
   "execution_count": 8,
   "metadata": {},
   "outputs": [
    {
     "name": "stdout",
     "output_type": "stream",
     "text": [
      "(28709, 48, 48)\n",
      "(28709, 7)\n"
     ]
    }
   ],
   "source": [
    "print(x.shape)\n",
    "print(y.shape)"
   ]
  },
  {
   "cell_type": "code",
   "execution_count": 9,
   "metadata": {},
   "outputs": [],
   "source": [
    "# Train_test_split training data into training and test sets\n",
    "x_train1, x_test, y_train1, y_test =  train_test_split(x, y, \\\n",
    "                                          random_state = 123, test_size = 0.10)"
   ]
  },
  {
   "cell_type": "code",
   "execution_count": 10,
   "metadata": {},
   "outputs": [
    {
     "name": "stdout",
     "output_type": "stream",
     "text": [
      "x_test =  (2871, 48, 48)\n",
      "y_test =  (2871, 7)\n",
      "training data  before splitting into train + validation :\n",
      "x_train1 =  (25838, 48, 48)\n",
      "y_train1 =  (25838, 7)\n"
     ]
    }
   ],
   "source": [
    "print('x_test = ',x_test.shape)\n",
    "print('y_test = ',y_test.shape)\n",
    "print('training data  before splitting into train + validation :')\n",
    "print('x_train1 = ',x_train1.shape)\n",
    "print('y_train1 = ',y_train1.shape)"
   ]
  },
  {
   "cell_type": "code",
   "execution_count": 11,
   "metadata": {},
   "outputs": [],
   "source": [
    "# Create train_test_split for validation sets\n",
    "x_train, x_val, y_train, y_val = train_test_split(x_train1, y_train1, random_state = 123, test_size = 0.20)"
   ]
  },
  {
   "cell_type": "code",
   "execution_count": 12,
   "metadata": {},
   "outputs": [
    {
     "name": "stdout",
     "output_type": "stream",
     "text": [
      "x_train =  (20670, 48, 48)\n",
      "y_train =  (20670, 7)\n",
      "x_val =  (5168, 48, 48)\n",
      "y_val =  (5168, 7)\n"
     ]
    }
   ],
   "source": [
    "print('x_train = ',x_train.shape)\n",
    "print('y_train = ', y_train.shape)\n",
    "print('x_val = ',x_val.shape)\n",
    "print('y_val = ', y_val.shape)"
   ]
  },
  {
   "cell_type": "code",
   "execution_count": 13,
   "metadata": {},
   "outputs": [],
   "source": [
    "#need to do this because input_shape in model_cnn.add needs a 2D image with \n",
    "# depth specified as 1\n",
    "x_train_reshaped = np.expand_dims(x_train, axis = 3)\n",
    "x_val_reshaped = np.expand_dims(x_val, axis = 3)\n",
    "x_test_reshaped = np.expand_dims(x_test, axis = 3)"
   ]
  },
  {
   "cell_type": "code",
   "execution_count": 14,
   "metadata": {},
   "outputs": [],
   "source": [
    "# Need to repeat our 48x48x1 to 3 dimensions, because transfer learning models take RGB format\n",
    "x_train_reshaped = np.repeat(x_train_reshaped, 3, axis=3)\n",
    "x_val_reshaped = np.repeat(x_val_reshaped, 3, axis=3)\n",
    "x_test_reshaped = np.repeat(x_test_reshaped, 3, axis=3)\n"
   ]
  },
  {
   "cell_type": "code",
   "execution_count": 15,
   "metadata": {},
   "outputs": [
    {
     "name": "stdout",
     "output_type": "stream",
     "text": [
      "(20670, 48, 48, 3)\n",
      "(5168, 48, 48, 3)\n",
      "(2871, 48, 48, 3)\n"
     ]
    }
   ],
   "source": [
    "print(x_train_reshaped.shape)\n",
    "print(x_val_reshaped.shape) \n",
    "print(x_test_reshaped.shape)"
   ]
  },
  {
   "cell_type": "code",
   "execution_count": 16,
   "metadata": {},
   "outputs": [
    {
     "data": {
      "text/plain": [
       "(2871, 7)"
      ]
     },
     "execution_count": 16,
     "metadata": {},
     "output_type": "execute_result"
    }
   ],
   "source": [
    "y_test.shape"
   ]
  },
  {
   "cell_type": "markdown",
   "metadata": {},
   "source": [
    "### model "
   ]
  },
  {
   "cell_type": "code",
   "execution_count": 20,
   "metadata": {},
   "outputs": [],
   "source": [
    "np.random.seed(123)\n",
    "# cnn_base = VGG16(include_top= False, weights='imagenet', input_shape = (48,48,3))\n",
    "cnn_base = VGG19(include_top= False, weights='imagenet', input_shape = (48,48,3))"
   ]
  },
  {
   "cell_type": "code",
   "execution_count": 21,
   "metadata": {},
   "outputs": [],
   "source": [
    "# Define model as Sequential class\n",
    "model_cnn5 = models.Sequential() "
   ]
  },
  {
   "cell_type": "code",
   "execution_count": 22,
   "metadata": {},
   "outputs": [],
   "source": [
    "model_cnn5.add(cnn_base)\n",
    "\n",
    "model_cnn5.add(layers.Flatten())\n",
    "model_cnn5.add(layers.Dense(128, activation='tanh'))\n",
    "model_cnn5.add(layers.Dense(64, activation='tanh'))\n",
    "model_cnn5.add(layers.Dense(7, activation='softmax'))  # 7 classifications "
   ]
  },
  {
   "cell_type": "code",
   "execution_count": 23,
   "metadata": {},
   "outputs": [
    {
     "name": "stdout",
     "output_type": "stream",
     "text": [
      "Model: \"sequential_3\"\n",
      "_________________________________________________________________\n",
      "Layer (type)                 Output Shape              Param #   \n",
      "=================================================================\n",
      "vgg19 (Model)                (None, 1, 1, 512)         20024384  \n",
      "_________________________________________________________________\n",
      "flatten_3 (Flatten)          (None, 512)               0         \n",
      "_________________________________________________________________\n",
      "dense_5 (Dense)              (None, 128)               65664     \n",
      "_________________________________________________________________\n",
      "dense_6 (Dense)              (None, 64)                8256      \n",
      "_________________________________________________________________\n",
      "dense_7 (Dense)              (None, 7)                 455       \n",
      "=================================================================\n",
      "Total params: 20,098,759\n",
      "Trainable params: 20,098,759\n",
      "Non-trainable params: 0\n",
      "_________________________________________________________________\n"
     ]
    }
   ],
   "source": [
    "model_cnn5.summary()"
   ]
  },
  {
   "cell_type": "code",
   "execution_count": 21,
   "metadata": {},
   "outputs": [],
   "source": [
    "model_cnn5.compile(loss='categorical_crossentropy',\n",
    "\n",
    "                  optimizer=\"sgd\",\n",
    "              metrics=['acc'])\n"
   ]
  },
  {
   "cell_type": "code",
   "execution_count": null,
   "metadata": {},
   "outputs": [],
   "source": [
    "# or if we want to set the first 19 layers of the network to be non-trainable\n",
    "''''for layer in model_cnn.layers[:16]:\n",
    "   layer.trainable=False\n",
    "for layer in model_cnn.layers[16:]:\n",
    "   layer.trainable=True\n",
    "''''\n",
    "    \n",
    "# Note: tried running the freeze before compiling model. This yielded low accuracy scores\n",
    "# Decided to compile model first, then freeze first 16 years (the VGG16 layers)"
   ]
  },
  {
   "cell_type": "code",
   "execution_count": 22,
   "metadata": {},
   "outputs": [],
   "source": [
    "earlystop = EarlyStopping(monitor='val_loss',\n",
    "                              min_delta=0.005,\n",
    "                              patience=2,\n",
    "                              verbose=0, mode='auto')"
   ]
  },
  {
   "cell_type": "code",
   "execution_count": 23,
   "metadata": {},
   "outputs": [
    {
     "name": "stdout",
     "output_type": "stream",
     "text": [
      "Train on 20670 samples, validate on 5168 samples\n",
      "Epoch 1/15\n",
      "20670/20670 [==============================] - 3493s 169ms/step - loss: 1.4388 - acc: 0.4400 - val_loss: 1.3424 - val_acc: 0.4868\n",
      "Epoch 2/15\n",
      "20670/20670 [==============================] - 3784s 183ms/step - loss: 1.1825 - acc: 0.5550 - val_loss: 1.1590 - val_acc: 0.5608\n",
      "Epoch 3/15\n",
      "20670/20670 [==============================] - 3570s 173ms/step - loss: 1.0662 - acc: 0.6002 - val_loss: 1.1481 - val_acc: 0.5751\n",
      "Epoch 4/15\n",
      "20670/20670 [==============================] - 3871s 187ms/step - loss: 0.9741 - acc: 0.6351 - val_loss: 1.1643 - val_acc: 0.5842\n",
      "Epoch 5/15\n",
      "20670/20670 [==============================] - 3529s 171ms/step - loss: 0.8873 - acc: 0.6684 - val_loss: 1.1120 - val_acc: 0.5863\n",
      "Epoch 6/15\n",
      "20670/20670 [==============================] - 4338s 210ms/step - loss: 0.7907 - acc: 0.7133 - val_loss: 1.1088 - val_acc: 0.6024\n",
      "Epoch 7/15\n",
      "20670/20670 [==============================] - 3512s 170ms/step - loss: 0.7076 - acc: 0.7414 - val_loss: 1.1047 - val_acc: 0.6151\n",
      "Epoch 8/15\n",
      "20670/20670 [==============================] - 4037s 195ms/step - loss: 0.6168 - acc: 0.7799 - val_loss: 1.2717 - val_acc: 0.6045\n",
      "Epoch 9/15\n",
      "20670/20670 [==============================] - 3794s 184ms/step - loss: 0.5332 - acc: 0.8067 - val_loss: 1.2882 - val_acc: 0.6068\n"
     ]
    }
   ],
   "source": [
    "history_cnn5 = model_cnn5.fit(x_train_reshaped,\n",
    "                    y_train,\n",
    "                    epochs=15,\n",
    "                    batch_size=10,\n",
    "                    validation_data=(x_val_reshaped,\n",
    "                                     y_val), callbacks= [earlystop])"
   ]
  },
  {
   "cell_type": "markdown",
   "metadata": {},
   "source": [
    "### Evaluation "
   ]
  },
  {
   "cell_type": "code",
   "execution_count": 24,
   "metadata": {},
   "outputs": [
    {
     "name": "stdout",
     "output_type": "stream",
     "text": [
      "20670/20670 [==============================] - 616s 30ms/step\n"
     ]
    },
    {
     "data": {
      "text/plain": [
       "[0.44362462160952953, 0.8378326296806335]"
      ]
     },
     "execution_count": 24,
     "metadata": {},
     "output_type": "execute_result"
    }
   ],
   "source": [
    "# Evaluate train data\n",
    "results_train_cnn5 = model_cnn5.evaluate(x_train_reshaped, y_train)\n",
    "results_train_cnn5"
   ]
  },
  {
   "cell_type": "code",
   "execution_count": 25,
   "metadata": {},
   "outputs": [
    {
     "name": "stdout",
     "output_type": "stream",
     "text": [
      "2871/2871 [==============================] - 79s 28ms/step\n"
     ]
    },
    {
     "data": {
      "text/plain": [
       "[1.1900847770743401, 0.6325322389602661]"
      ]
     },
     "execution_count": 25,
     "metadata": {},
     "output_type": "execute_result"
    }
   ],
   "source": [
    "# Evaluate test data\n",
    "results_test_cnn5 = model_cnn5.evaluate(x_test_reshaped, y_test)\n",
    "results_test_cnn5"
   ]
  },
  {
   "cell_type": "code",
   "execution_count": 26,
   "metadata": {},
   "outputs": [
    {
     "name": "stdout",
     "output_type": "stream",
     "text": [
      "Saved model to VGG19_result.h5 \n"
     ]
    }
   ],
   "source": [
    "#saving the current best for future works\n",
    "model_json = model_cnn5.to_json()\n",
    "with open(\"VGG19_result\", \"w\") as json_file:\n",
    "    json_file.write(model_json)\n",
    "# serialize weights to HDF5\n",
    "model_cnn5.save_weights(\"VGG19_result.h5\")\n",
    "print(\"Saved model to VGG19_result.h5 \")"
   ]
  },
  {
   "cell_type": "markdown",
   "metadata": {},
   "source": [
    "### Plotting "
   ]
  },
  {
   "cell_type": "code",
   "execution_count": 27,
   "metadata": {},
   "outputs": [],
   "source": [
    "y_hat5 = model_cnn5.predict(x_test_reshaped)"
   ]
  },
  {
   "cell_type": "code",
   "execution_count": 28,
   "metadata": {},
   "outputs": [
    {
     "name": "stdout",
     "output_type": "stream",
     "text": [
      "dict_keys(['val_loss', 'val_acc', 'loss', 'acc'])\n",
      "range(1, 10)\n"
     ]
    }
   ],
   "source": [
    "print(history_cnn5.history.keys())\n",
    "epochs = range(1, len(history_cnn5.history['loss']) + 1)\n",
    "print(epochs)"
   ]
  },
  {
   "cell_type": "code",
   "execution_count": 29,
   "metadata": {},
   "outputs": [
    {
     "data": {
      "image/png": "[encoded data removed]",
      "text/plain": [
       "<Figure size 432x288 with 1 Axes>"
      ]
     },
     "metadata": {
      "needs_background": "light"
     },
     "output_type": "display_data"
    },
    {
     "data": {
      "image/png": "[encoded data removed]",
      "text/plain": [
       "<Figure size 432x288 with 1 Axes>"
      ]
     },
     "metadata": {
      "needs_background": "light"
     },
     "output_type": "display_data"
    }
   ],
   "source": [
    "plt.plot(epochs,history_cnn5.history['acc'])\n",
    "plt.plot(epochs,history_cnn5.history['val_acc'])\n",
    "plt.title('model accuracy - VGG19')\n",
    "plt.ylabel('accuracy')\n",
    "plt.xlabel('epochs')\n",
    "plt.legend(['accuracy', 'val_accuracy'], loc='upper left')\n",
    "plt.show()\n",
    "plt.plot(epochs,history_cnn5.history['loss'])\n",
    "plt.plot(epochs,history_cnn5.history['val_loss'])\n",
    "plt.title('model loss - VGG19')\n",
    "plt.ylabel('loss')\n",
    "plt.xlabel('epochs')\n",
    "plt.legend(['loss', 'val_loss'], loc='upper right')\n",
    "plt.show()"
   ]
  },
  {
   "cell_type": "code",
   "execution_count": 34,
   "metadata": {},
   "outputs": [
    {
     "name": "stdout",
     "output_type": "stream",
     "text": [
      "              precision    recall  f1-score   support\n",
      "\n",
      "           0       0.55      0.62      0.58       407\n",
      "           1       0.45      0.54      0.49        37\n",
      "           2       0.56      0.39      0.46       399\n",
      "           3       0.83      0.80      0.81       732\n",
      "           4       0.64      0.42      0.51       494\n",
      "           5       0.71      0.73      0.72       300\n",
      "           6       0.50      0.75      0.60       502\n",
      "\n",
      "   micro avg       0.63      0.63      0.63      2871\n",
      "   macro avg       0.61      0.61      0.60      2871\n",
      "weighted avg       0.64      0.63      0.63      2871\n",
      " samples avg       0.63      0.63      0.63      2871\n",
      "\n"
     ]
    },
    {
     "data": {
      "text/plain": [
       "('F1: 0.6280141417584265',\n",
       " 'precision: 0.6448985381477781',\n",
       " 'recall: 0.6325322187391152')"
      ]
     },
     "execution_count": 34,
     "metadata": {},
     "output_type": "execute_result"
    }
   ],
   "source": [
    "def get_metrics():\n",
    "  # Converted continuous probabilities to binary to get F1 score\n",
    "  y_hate5 = []\n",
    "  for i in range(0,y_hat5.shape[0]):\n",
    "    a = [1 if metric == y_hat5[i].max() else 0 for metric in y_hat5[i]]\n",
    "    y_hate5.append(a)\n",
    "  y_pred = np.array(y_hate5)\n",
    "  \n",
    "  classification_metrics = classification_report(y_test, y_pred)\n",
    "  print(classification_metrics)\n",
    "  \n",
    "  return 'F1: {}'.format(f1_score(y_true=y_test, y_pred= y_pred, average = 'weighted')), \\\n",
    "  'precision: {}'.format(precision_score(y_true=y_test, y_pred= y_pred, average = 'weighted')), \\\n",
    "  'recall: {}'.format(recall_score(y_true=y_test, y_pred= y_pred, average = 'weighted')) \n",
    "\n",
    "get_metrics()"
   ]
  },
  {
   "cell_type": "code",
   "execution_count": 35,
   "metadata": {},
   "outputs": [],
   "source": [
    "def plot_confusion_matrix(cm, classes,\n",
    "             normalize=False,\n",
    "             title='Confusion matrix',\n",
    "             cmap=plt.cm.Blues):\n",
    "    #Add Normalization Option\n",
    "    '''prints pretty confusion metric with normalization option '''\n",
    "    if normalize:\n",
    "        cm = cm.astype('float') / cm.sum(axis=1)[:, np.newaxis]\n",
    "        print(\"Normalized confusion matrix\")\n",
    "    else:\n",
    "        print('Confusion matrix, without normalization')\n",
    "    \n",
    "#     print(cm)\n",
    "    \n",
    "    plt.imshow(cm, interpolation='nearest', cmap=cmap)\n",
    "    plt.title(title)\n",
    "    plt.colorbar()\n",
    "    tick_marks = np.arange(len(classes))\n",
    "    plt.xticks(tick_marks, classes, rotation=45)\n",
    "    plt.yticks(tick_marks, classes)\n",
    "    \n",
    "    fmt = '.2f' if normalize else 'd'\n",
    "    thresh = cm.max() / 2.\n",
    "    for i, j in itertools.product(range(cm.shape[0]), range(cm.shape[1])):\n",
    "        plt.text(j, i, format(cm[i, j], fmt), horizontalalignment=\"center\", color=\"white\" if cm[i, j] > thresh else \"black\")\n",
    "    \n",
    "    plt.tight_layout()\n",
    "    plt.ylabel('True label')\n",
    "    plt.xlabel('Predicted label')"
   ]
  },
  {
   "cell_type": "code",
   "execution_count": 37,
   "metadata": {},
   "outputs": [
    {
     "name": "stdout",
     "output_type": "stream",
     "text": [
      "Confusion matrix, without normalization\n"
     ]
    },
    {
     "data": {
      "image/png": "[encoded data removed]",
      "text/plain": [
       "<Figure size 432x288 with 2 Axes>"
      ]
     },
     "metadata": {
      "needs_background": "light"
     },
     "output_type": "display_data"
    }
   ],
   "source": [
    "# Get Confusion matrix\n",
    "cm_ = confusion_matrix(y_test.argmax(axis = 1), y_hat5.argmax(axis = 1))\n",
    "classes_ = ['anger', 'disgust', 'fear', 'happy', 'sad', 'surprise', 'neutral']\n",
    "plot_confusion_matrix(cm_, classes = classes_, normalize=False, \\\n",
    "                      title='Non-normalized confusion matrix')"
   ]
  }
 ],
 "metadata": {
  "kernelspec": {
   "display_name": "Python 3",
   "language": "python",
   "name": "python3"
  },
  "language_info": {
   "codemirror_mode": {
    "name": "ipython",
    "version": 3
   },
   "file_extension": ".py",
   "mimetype": "text/x-python",
   "name": "python",
   "nbconvert_exporter": "python",
   "pygments_lexer": "ipython3",
   "version": "3.7.6"
  }
 },
 "nbformat": 4,
 "nbformat_minor": 4
}
